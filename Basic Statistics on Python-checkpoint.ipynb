{
 "cells": [
  {
   "cell_type": "markdown",
   "metadata": {},
   "source": [
    "# Variabel"
   ]
  },
  {
   "cell_type": "markdown",
   "metadata": {},
   "source": [
    "## Tipe variabel"
   ]
  },
  {
   "cell_type": "code",
   "execution_count": 61,
   "metadata": {
    "scrolled": true
   },
   "outputs": [
    {
     "name": "stdout",
     "output_type": "stream",
     "text": [
      "<class 'str'> <class 'int'> <class 'float'> <class 'bool'>\n",
      "hello world 5 6.5 True\n"
     ]
    }
   ],
   "source": [
    "r = \"hello world\" \n",
    "s = 5\n",
    "t = 6.5\n",
    "u = True\n",
    "print(type(r),type(s),type(t),type(u))\n",
    "print(r,s,t,u)\n"
   ]
  },
  {
   "cell_type": "markdown",
   "metadata": {},
   "source": [
    "## Operasi Perhitungan Variabel"
   ]
  },
  {
   "cell_type": "code",
   "execution_count": 64,
   "metadata": {},
   "outputs": [
    {
     "data": {
      "text/plain": [
       "5"
      ]
     },
     "execution_count": 64,
     "metadata": {},
     "output_type": "execute_result"
    }
   ],
   "source": [
    "x = 5\n",
    "x"
   ]
  },
  {
   "cell_type": "code",
   "execution_count": 66,
   "metadata": {},
   "outputs": [
    {
     "name": "stdout",
     "output_type": "stream",
     "text": [
      "7 3 10 25 1 2.5\n"
     ]
    }
   ],
   "source": [
    "a = x+2\n",
    "b = x-2\n",
    "c = x*2\n",
    "d = x**2\n",
    "e = x%2\n",
    "f = x/2\n",
    "print(a,b,c,d,e,f)"
   ]
  },
  {
   "cell_type": "markdown",
   "metadata": {},
   "source": [
    "## Operasi Data String"
   ]
  },
  {
   "cell_type": "code",
   "execution_count": 2,
   "metadata": {},
   "outputs": [
    {
     "data": {
      "text/plain": [
       "'Statistics is the science concerned with developing and studying methods for collecting, analyzing, interpreting and presenting empirical data.'"
      ]
     },
     "execution_count": 2,
     "metadata": {},
     "output_type": "execute_result"
    }
   ],
   "source": [
    "my_string = 'Statistics is the science concerned with developing and studying methods for collecting, analyzing, interpreting and presenting empirical data.'\n",
    "my_string"
   ]
  },
  {
   "cell_type": "code",
   "execution_count": 68,
   "metadata": {},
   "outputs": [
    {
     "data": {
      "text/plain": [
       "'Statistics is the science concerned with developing and studying methods for collecting, analyzing, interpreting and presenting empirical data.Statistics is the science concerned with developing and studying methods for collecting, analyzing, interpreting and presenting empirical data.'"
      ]
     },
     "execution_count": 68,
     "metadata": {},
     "output_type": "execute_result"
    }
   ],
   "source": [
    "my_string*2"
   ]
  },
  {
   "cell_type": "code",
   "execution_count": 4,
   "metadata": {},
   "outputs": [
    {
     "data": {
      "text/plain": [
       "'Statistics is the science concerned with developing and studying methods for collecting, analyzing, interpreting and presenting empirical data. analysis.'"
      ]
     },
     "execution_count": 4,
     "metadata": {},
     "output_type": "execute_result"
    }
   ],
   "source": [
    "my_string + ' analysis.'"
   ]
  },
  {
   "cell_type": "code",
   "execution_count": 70,
   "metadata": {},
   "outputs": [
    {
     "data": {
      "text/plain": [
       "True"
      ]
     },
     "execution_count": 70,
     "metadata": {},
     "output_type": "execute_result"
    }
   ],
   "source": [
    "'developing' in my_string"
   ]
  },
  {
   "cell_type": "markdown",
   "metadata": {},
   "source": [
    "## List"
   ]
  },
  {
   "cell_type": "code",
   "execution_count": 24,
   "metadata": {},
   "outputs": [
    {
     "data": {
      "text/plain": [
       "6"
      ]
     },
     "execution_count": 24,
     "metadata": {},
     "output_type": "execute_result"
    }
   ],
   "source": [
    "mylist = [1, 2, 3, 4, 5, 6]\n",
    "panjang=len(mylist)\n",
    "print()"
   ]
  },
  {
   "cell_type": "code",
   "execution_count": 90,
   "metadata": {},
   "outputs": [
    {
     "data": {
      "text/plain": [
       "[1, 2, 3, 4]"
      ]
     },
     "execution_count": 90,
     "metadata": {},
     "output_type": "execute_result"
    }
   ],
   "source": [
    "mylist[:4]"
   ]
  },
  {
   "cell_type": "code",
   "execution_count": 91,
   "metadata": {},
   "outputs": [
    {
     "data": {
      "text/plain": [
       "[5, 6]"
      ]
     },
     "execution_count": 91,
     "metadata": {},
     "output_type": "execute_result"
    }
   ],
   "source": [
    "mylist[4:]"
   ]
  },
  {
   "cell_type": "code",
   "execution_count": 92,
   "metadata": {},
   "outputs": [
    {
     "data": {
      "text/plain": [
       "[5, 6]"
      ]
     },
     "execution_count": 92,
     "metadata": {},
     "output_type": "execute_result"
    }
   ],
   "source": [
    "mylist[-2:]"
   ]
  },
  {
   "cell_type": "code",
   "execution_count": 93,
   "metadata": {},
   "outputs": [
    {
     "data": {
      "text/plain": [
       "[[1, 2, 3, 4, 5, 6], [10, 11, 12]]"
      ]
     },
     "execution_count": 93,
     "metadata": {},
     "output_type": "execute_result"
    }
   ],
   "source": [
    "y = [10, 11, 12]\n",
    "list_didalam_list = [mylist, y]\n",
    "list_didalam_list "
   ]
  },
  {
   "cell_type": "code",
   "execution_count": 32,
   "metadata": {},
   "outputs": [
    {
     "data": {
      "text/plain": [
       "11"
      ]
     },
     "execution_count": 32,
     "metadata": {},
     "output_type": "execute_result"
    }
   ],
   "source": [
    "y[1]"
   ]
  },
  {
   "cell_type": "code",
   "execution_count": 105,
   "metadata": {},
   "outputs": [
    {
     "data": {
      "text/plain": [
       "[1, 2, 3]"
      ]
     },
     "execution_count": 105,
     "metadata": {},
     "output_type": "execute_result"
    }
   ],
   "source": [
    "z = [2, 3, 1]\n",
    "z.sort()\n",
    "z"
   ]
  },
  {
   "cell_type": "code",
   "execution_count": 7,
   "metadata": {},
   "outputs": [
    {
     "data": {
      "text/plain": [
       "[9, 8, 2]"
      ]
     },
     "execution_count": 7,
     "metadata": {},
     "output_type": "execute_result"
    }
   ],
   "source": [
    "uu = [2,8,9]\n",
    "uu.sort(reverse=True)\n",
    "uu"
   ]
  },
  {
   "cell_type": "code",
   "execution_count": 21,
   "metadata": {},
   "outputs": [
    {
     "data": {
      "text/plain": [
       "['kawasaki', 'suzuki']"
      ]
     },
     "execution_count": 21,
     "metadata": {},
     "output_type": "execute_result"
    }
   ],
   "source": [
    "motor = ['honda', 'kawasaki', 'suzuki']\n",
    "motor.remove('honda')\n",
    "motor"
   ]
  },
  {
   "cell_type": "code",
   "execution_count": 22,
   "metadata": {},
   "outputs": [
    {
     "data": {
      "text/plain": [
       "'suzuki'"
      ]
     },
     "execution_count": 22,
     "metadata": {},
     "output_type": "execute_result"
    }
   ],
   "source": [
    "motor.pop(1)"
   ]
  },
  {
   "cell_type": "code",
   "execution_count": 37,
   "metadata": {
    "scrolled": false
   },
   "outputs": [
    {
     "name": "stdout",
     "output_type": "stream",
     "text": [
      "Mobilku hari ini adalah Bmw\n",
      "Mobilku hari ini adalah Audi\n",
      "Mobilku hari ini adalah Toyota\n",
      "Mobilku hari ini adalah Subaru\n"
     ]
    }
   ],
   "source": [
    "cars = ['bmw', 'audi', 'toyota', 'subaru']\n",
    "for car in cars:\n",
    "    print(\"Mobilku hari ini adalah \" + car.title())"
   ]
  },
  {
   "cell_type": "code",
   "execution_count": 27,
   "metadata": {},
   "outputs": [
    {
     "name": "stdout",
     "output_type": "stream",
     "text": [
      "1\n",
      "2\n",
      "3\n",
      "4\n",
      "5\n"
     ]
    }
   ],
   "source": [
    "for i in range(1,6):\n",
    "    print(i)"
   ]
  },
  {
   "cell_type": "markdown",
   "metadata": {},
   "source": [
    "## Array"
   ]
  },
  {
   "cell_type": "code",
   "execution_count": 113,
   "metadata": {
    "collapsed": true
   },
   "outputs": [],
   "source": [
    "# Untuk mengimport modul NumPy kita gunakan\n",
    "\n",
    "# Untuk membuat lebih gampang seperti pertemuan sebelumnya kita gunakan alias 'as'\n",
    "import numpy as np"
   ]
  },
  {
   "cell_type": "code",
   "execution_count": 115,
   "metadata": {},
   "outputs": [
    {
     "data": {
      "text/plain": [
       "array([ 5, 10, 15, 20])"
      ]
     },
     "execution_count": 115,
     "metadata": {},
     "output_type": "execute_result"
    }
   ],
   "source": [
    "vektor = np.array([5, 10, 15, 20])\n",
    "vektor"
   ]
  },
  {
   "cell_type": "code",
   "execution_count": 116,
   "metadata": {},
   "outputs": [
    {
     "data": {
      "text/plain": [
       "array([[ 5, 10, 15],\n",
       "       [20, 25, 30],\n",
       "       [35, 40, 45]])"
      ]
     },
     "execution_count": 116,
     "metadata": {},
     "output_type": "execute_result"
    }
   ],
   "source": [
    "matriks = np.array([[5, 10, 15], [20, 25, 30], [35, 40, 45]])\n",
    "matriks"
   ]
  },
  {
   "cell_type": "code",
   "execution_count": 117,
   "metadata": {},
   "outputs": [
    {
     "data": {
      "text/plain": [
       "(4,)"
      ]
     },
     "execution_count": 117,
     "metadata": {},
     "output_type": "execute_result"
    }
   ],
   "source": [
    "vektor.shape"
   ]
  },
  {
   "cell_type": "code",
   "execution_count": 118,
   "metadata": {},
   "outputs": [
    {
     "data": {
      "text/plain": [
       "(3, 3)"
      ]
     },
     "execution_count": 118,
     "metadata": {},
     "output_type": "execute_result"
    }
   ],
   "source": [
    "matriks.shape"
   ]
  },
  {
   "cell_type": "code",
   "execution_count": 119,
   "metadata": {},
   "outputs": [
    {
     "data": {
      "text/plain": [
       "dtype('int32')"
      ]
     },
     "execution_count": 119,
     "metadata": {},
     "output_type": "execute_result"
    }
   ],
   "source": [
    "vektor.dtype"
   ]
  },
  {
   "cell_type": "code",
   "execution_count": 120,
   "metadata": {},
   "outputs": [
    {
     "data": {
      "text/plain": [
       "dtype('int32')"
      ]
     },
     "execution_count": 120,
     "metadata": {},
     "output_type": "execute_result"
    }
   ],
   "source": [
    "matriks.dtype"
   ]
  },
  {
   "cell_type": "code",
   "execution_count": 121,
   "metadata": {},
   "outputs": [
    {
     "data": {
      "text/plain": [
       "10"
      ]
     },
     "execution_count": 121,
     "metadata": {},
     "output_type": "execute_result"
    }
   ],
   "source": [
    "vektor[1]"
   ]
  },
  {
   "cell_type": "code",
   "execution_count": 125,
   "metadata": {},
   "outputs": [
    {
     "data": {
      "text/plain": [
       "30"
      ]
     },
     "execution_count": 125,
     "metadata": {},
     "output_type": "execute_result"
    }
   ],
   "source": [
    "matriks[1,2]"
   ]
  },
  {
   "cell_type": "code",
   "execution_count": 123,
   "metadata": {},
   "outputs": [
    {
     "data": {
      "text/plain": [
       "array([ 5, 10])"
      ]
     },
     "execution_count": 123,
     "metadata": {},
     "output_type": "execute_result"
    }
   ],
   "source": [
    "vektor[:2]"
   ]
  },
  {
   "cell_type": "code",
   "execution_count": 124,
   "metadata": {},
   "outputs": [
    {
     "data": {
      "text/plain": [
       "array([10, 25, 40])"
      ]
     },
     "execution_count": 124,
     "metadata": {},
     "output_type": "execute_result"
    }
   ],
   "source": [
    "matriks[:,1]"
   ]
  },
  {
   "cell_type": "markdown",
   "metadata": {},
   "source": [
    "# Importing data"
   ]
  },
  {
   "cell_type": "markdown",
   "metadata": {},
   "source": [
    "## File Text"
   ]
  },
  {
   "cell_type": "code",
   "execution_count": 14,
   "metadata": {},
   "outputs": [
    {
     "name": "stdout",
     "output_type": "stream",
     "text": [
      "False\n"
     ]
    }
   ],
   "source": [
    "filename = 'D:\\MATERI PYTHON\\statistics.txt'  #mendefinisikan file yang akan dibaca\n",
    "file = open(filename,mode='r')              #membuka file\n",
    "text=file.read()                          #membaca konten file\n",
    "print(file.closed)                 #memeriksa apakah file tertutup atau tidak\n"
   ]
  },
  {
   "cell_type": "code",
   "execution_count": 17,
   "metadata": {},
   "outputs": [
    {
     "name": "stdout",
     "output_type": "stream",
     "text": [
      "Statistics is the science concerned with developing and studying methods for collecting, analyzing, interpreting and presenting empirical data. Statistics is a highly interdisciplinary field; research in statistics finds applicability in virtually all scientific fields and research questions in the various scientific fields motivate the development of new statistical methods and theory. In developing methods and studying the theory that underlies the methods statisticians draw on a variety of mathematical and computational tools.\n",
      "\n",
      "Two fundamental ideas in the field of statistics are uncertainty and variation. There are many situations that we encounter in science (or more generally in life) in which the outcome is uncertain. In some cases the uncertainty is because the outcome in question is not determined yet (e.g., we may not know whether it will rain tomorrow) while in other cases the uncertainty is because although the outcome has been determined already we are not aware of it (e.g., we may not know whether we passed a particular exam).\n",
      "\n",
      "Probability is a mathematical language used to discuss uncertain events and probability plays a key role in statistics. Any measurement or data collection effort is subject to a number of sources of variation. By this we mean that if the same measurement were repeated, then the answer would likely change. Statisticians attempt to understand and control (where possible) the sources of variation in any situation.\n",
      "\n",
      "We encourage you to continue exploring our website to learn more about statistics, our academic programs, our students and faculty, as well as the cutting-edge research we are doing in the field.\n",
      "\n",
      "Source:https://www.stat.uci.edu/what-is-statistics/\n"
     ]
    }
   ],
   "source": [
    "file.close()            #menutup file\n",
    "print(text)             #mencetak konten file"
   ]
  },
  {
   "cell_type": "code",
   "execution_count": null,
   "metadata": {
    "collapsed": true
   },
   "outputs": [],
   "source": []
  },
  {
   "cell_type": "markdown",
   "metadata": {},
   "source": [
    "# Data Frame"
   ]
  },
  {
   "cell_type": "code",
   "execution_count": 30,
   "metadata": {},
   "outputs": [
    {
     "data": {
      "text/html": [
       "<div>\n",
       "<style>\n",
       "    .dataframe thead tr:only-child th {\n",
       "        text-align: right;\n",
       "    }\n",
       "\n",
       "    .dataframe thead th {\n",
       "        text-align: left;\n",
       "    }\n",
       "\n",
       "    .dataframe tbody tr th {\n",
       "        vertical-align: top;\n",
       "    }\n",
       "</style>\n",
       "<table border=\"1\" class=\"dataframe\">\n",
       "  <thead>\n",
       "    <tr style=\"text-align: right;\">\n",
       "      <th></th>\n",
       "      <th>NDB_No</th>\n",
       "      <th>Shrt_Desc</th>\n",
       "      <th>Water_(g)</th>\n",
       "      <th>Energ_Kcal</th>\n",
       "      <th>Protein_(g)</th>\n",
       "      <th>Lipid_Tot_(g)</th>\n",
       "      <th>Ash_(g)</th>\n",
       "      <th>Carbohydrt_(g)</th>\n",
       "      <th>Fiber_TD_(g)</th>\n",
       "      <th>Sugar_Tot_(g)</th>\n",
       "      <th>...</th>\n",
       "      <th>Lycopene_(µg)</th>\n",
       "      <th>Lut+Zea_ (µg)</th>\n",
       "      <th>Vit_E_(mg)</th>\n",
       "      <th>Vit_D_µg</th>\n",
       "      <th>Vit_D_IU</th>\n",
       "      <th>Vit_K_(µg)</th>\n",
       "      <th>FA_Sat_(g)</th>\n",
       "      <th>FA_Mono_(g)</th>\n",
       "      <th>FA_Poly_(g)</th>\n",
       "      <th>Cholestrl_(mg)</th>\n",
       "    </tr>\n",
       "  </thead>\n",
       "  <tbody>\n",
       "    <tr>\n",
       "      <th>0</th>\n",
       "      <td>1001</td>\n",
       "      <td>BUTTER,WITH SALT</td>\n",
       "      <td>15.87</td>\n",
       "      <td>717</td>\n",
       "      <td>0.85</td>\n",
       "      <td>81.11</td>\n",
       "      <td>2.11</td>\n",
       "      <td>0.06</td>\n",
       "      <td>0.0</td>\n",
       "      <td>0.06</td>\n",
       "      <td>...</td>\n",
       "      <td>0.0</td>\n",
       "      <td>0.0</td>\n",
       "      <td>2.32</td>\n",
       "      <td>0.0</td>\n",
       "      <td>0.0</td>\n",
       "      <td>7.0</td>\n",
       "      <td>51.368</td>\n",
       "      <td>21.021</td>\n",
       "      <td>3.043</td>\n",
       "      <td>215.0</td>\n",
       "    </tr>\n",
       "    <tr>\n",
       "      <th>1</th>\n",
       "      <td>1002</td>\n",
       "      <td>BUTTER,WHIPPED,W/ SALT</td>\n",
       "      <td>16.72</td>\n",
       "      <td>718</td>\n",
       "      <td>0.49</td>\n",
       "      <td>78.30</td>\n",
       "      <td>1.62</td>\n",
       "      <td>2.87</td>\n",
       "      <td>0.0</td>\n",
       "      <td>0.06</td>\n",
       "      <td>...</td>\n",
       "      <td>0.0</td>\n",
       "      <td>13.0</td>\n",
       "      <td>1.37</td>\n",
       "      <td>0.0</td>\n",
       "      <td>0.0</td>\n",
       "      <td>4.6</td>\n",
       "      <td>45.390</td>\n",
       "      <td>19.874</td>\n",
       "      <td>3.331</td>\n",
       "      <td>225.0</td>\n",
       "    </tr>\n",
       "    <tr>\n",
       "      <th>2</th>\n",
       "      <td>1003</td>\n",
       "      <td>BUTTER OIL,ANHYDROUS</td>\n",
       "      <td>0.24</td>\n",
       "      <td>876</td>\n",
       "      <td>0.28</td>\n",
       "      <td>99.48</td>\n",
       "      <td>0.00</td>\n",
       "      <td>0.00</td>\n",
       "      <td>0.0</td>\n",
       "      <td>0.00</td>\n",
       "      <td>...</td>\n",
       "      <td>0.0</td>\n",
       "      <td>0.0</td>\n",
       "      <td>2.80</td>\n",
       "      <td>0.0</td>\n",
       "      <td>0.0</td>\n",
       "      <td>8.6</td>\n",
       "      <td>61.924</td>\n",
       "      <td>28.732</td>\n",
       "      <td>3.694</td>\n",
       "      <td>256.0</td>\n",
       "    </tr>\n",
       "    <tr>\n",
       "      <th>3</th>\n",
       "      <td>1004</td>\n",
       "      <td>CHEESE,BLUE</td>\n",
       "      <td>42.41</td>\n",
       "      <td>353</td>\n",
       "      <td>21.40</td>\n",
       "      <td>28.74</td>\n",
       "      <td>5.11</td>\n",
       "      <td>2.34</td>\n",
       "      <td>0.0</td>\n",
       "      <td>0.50</td>\n",
       "      <td>...</td>\n",
       "      <td>0.0</td>\n",
       "      <td>0.0</td>\n",
       "      <td>0.25</td>\n",
       "      <td>0.5</td>\n",
       "      <td>21.0</td>\n",
       "      <td>2.4</td>\n",
       "      <td>18.669</td>\n",
       "      <td>7.778</td>\n",
       "      <td>0.800</td>\n",
       "      <td>75.0</td>\n",
       "    </tr>\n",
       "    <tr>\n",
       "      <th>4</th>\n",
       "      <td>1005</td>\n",
       "      <td>CHEESE,BRICK</td>\n",
       "      <td>41.11</td>\n",
       "      <td>371</td>\n",
       "      <td>23.24</td>\n",
       "      <td>29.68</td>\n",
       "      <td>3.18</td>\n",
       "      <td>2.79</td>\n",
       "      <td>0.0</td>\n",
       "      <td>0.51</td>\n",
       "      <td>...</td>\n",
       "      <td>0.0</td>\n",
       "      <td>0.0</td>\n",
       "      <td>0.26</td>\n",
       "      <td>0.5</td>\n",
       "      <td>22.0</td>\n",
       "      <td>2.5</td>\n",
       "      <td>18.764</td>\n",
       "      <td>8.598</td>\n",
       "      <td>0.784</td>\n",
       "      <td>94.0</td>\n",
       "    </tr>\n",
       "    <tr>\n",
       "      <th>5</th>\n",
       "      <td>1006</td>\n",
       "      <td>CHEESE,BRIE</td>\n",
       "      <td>48.42</td>\n",
       "      <td>334</td>\n",
       "      <td>20.75</td>\n",
       "      <td>27.68</td>\n",
       "      <td>2.70</td>\n",
       "      <td>0.45</td>\n",
       "      <td>0.0</td>\n",
       "      <td>0.45</td>\n",
       "      <td>...</td>\n",
       "      <td>0.0</td>\n",
       "      <td>0.0</td>\n",
       "      <td>0.24</td>\n",
       "      <td>0.5</td>\n",
       "      <td>20.0</td>\n",
       "      <td>2.3</td>\n",
       "      <td>17.410</td>\n",
       "      <td>8.013</td>\n",
       "      <td>0.826</td>\n",
       "      <td>100.0</td>\n",
       "    </tr>\n",
       "    <tr>\n",
       "      <th>6</th>\n",
       "      <td>1007</td>\n",
       "      <td>CHEESE,CAMEMBERT</td>\n",
       "      <td>51.80</td>\n",
       "      <td>300</td>\n",
       "      <td>19.80</td>\n",
       "      <td>24.26</td>\n",
       "      <td>3.68</td>\n",
       "      <td>0.46</td>\n",
       "      <td>0.0</td>\n",
       "      <td>0.46</td>\n",
       "      <td>...</td>\n",
       "      <td>0.0</td>\n",
       "      <td>0.0</td>\n",
       "      <td>0.21</td>\n",
       "      <td>0.4</td>\n",
       "      <td>18.0</td>\n",
       "      <td>2.0</td>\n",
       "      <td>15.259</td>\n",
       "      <td>7.023</td>\n",
       "      <td>0.724</td>\n",
       "      <td>72.0</td>\n",
       "    </tr>\n",
       "    <tr>\n",
       "      <th>7</th>\n",
       "      <td>1008</td>\n",
       "      <td>CHEESE,CARAWAY</td>\n",
       "      <td>39.28</td>\n",
       "      <td>376</td>\n",
       "      <td>25.18</td>\n",
       "      <td>29.20</td>\n",
       "      <td>3.28</td>\n",
       "      <td>3.06</td>\n",
       "      <td>0.0</td>\n",
       "      <td>NaN</td>\n",
       "      <td>...</td>\n",
       "      <td>NaN</td>\n",
       "      <td>NaN</td>\n",
       "      <td>NaN</td>\n",
       "      <td>NaN</td>\n",
       "      <td>NaN</td>\n",
       "      <td>NaN</td>\n",
       "      <td>18.584</td>\n",
       "      <td>8.275</td>\n",
       "      <td>0.830</td>\n",
       "      <td>93.0</td>\n",
       "    </tr>\n",
       "    <tr>\n",
       "      <th>8</th>\n",
       "      <td>1009</td>\n",
       "      <td>CHEESE,CHEDDAR</td>\n",
       "      <td>37.02</td>\n",
       "      <td>404</td>\n",
       "      <td>22.87</td>\n",
       "      <td>33.31</td>\n",
       "      <td>3.71</td>\n",
       "      <td>3.09</td>\n",
       "      <td>0.0</td>\n",
       "      <td>0.48</td>\n",
       "      <td>...</td>\n",
       "      <td>0.0</td>\n",
       "      <td>0.0</td>\n",
       "      <td>0.71</td>\n",
       "      <td>0.6</td>\n",
       "      <td>24.0</td>\n",
       "      <td>2.4</td>\n",
       "      <td>18.867</td>\n",
       "      <td>9.246</td>\n",
       "      <td>1.421</td>\n",
       "      <td>99.0</td>\n",
       "    </tr>\n",
       "    <tr>\n",
       "      <th>9</th>\n",
       "      <td>1010</td>\n",
       "      <td>CHEESE,CHESHIRE</td>\n",
       "      <td>37.65</td>\n",
       "      <td>387</td>\n",
       "      <td>23.37</td>\n",
       "      <td>30.60</td>\n",
       "      <td>3.60</td>\n",
       "      <td>4.78</td>\n",
       "      <td>0.0</td>\n",
       "      <td>NaN</td>\n",
       "      <td>...</td>\n",
       "      <td>NaN</td>\n",
       "      <td>NaN</td>\n",
       "      <td>NaN</td>\n",
       "      <td>NaN</td>\n",
       "      <td>NaN</td>\n",
       "      <td>NaN</td>\n",
       "      <td>19.475</td>\n",
       "      <td>8.671</td>\n",
       "      <td>0.870</td>\n",
       "      <td>103.0</td>\n",
       "    </tr>\n",
       "    <tr>\n",
       "      <th>10</th>\n",
       "      <td>1011</td>\n",
       "      <td>CHEESE,COLBY</td>\n",
       "      <td>38.20</td>\n",
       "      <td>394</td>\n",
       "      <td>23.76</td>\n",
       "      <td>32.11</td>\n",
       "      <td>3.36</td>\n",
       "      <td>2.57</td>\n",
       "      <td>0.0</td>\n",
       "      <td>0.52</td>\n",
       "      <td>...</td>\n",
       "      <td>0.0</td>\n",
       "      <td>0.0</td>\n",
       "      <td>0.28</td>\n",
       "      <td>0.6</td>\n",
       "      <td>24.0</td>\n",
       "      <td>2.7</td>\n",
       "      <td>20.218</td>\n",
       "      <td>9.280</td>\n",
       "      <td>0.953</td>\n",
       "      <td>95.0</td>\n",
       "    </tr>\n",
       "    <tr>\n",
       "      <th>11</th>\n",
       "      <td>1012</td>\n",
       "      <td>CHEESE,COTTAGE,CRMD,LRG OR SML CURD</td>\n",
       "      <td>79.79</td>\n",
       "      <td>98</td>\n",
       "      <td>11.12</td>\n",
       "      <td>4.30</td>\n",
       "      <td>1.41</td>\n",
       "      <td>3.38</td>\n",
       "      <td>0.0</td>\n",
       "      <td>2.67</td>\n",
       "      <td>...</td>\n",
       "      <td>0.0</td>\n",
       "      <td>0.0</td>\n",
       "      <td>0.08</td>\n",
       "      <td>0.1</td>\n",
       "      <td>3.0</td>\n",
       "      <td>0.0</td>\n",
       "      <td>1.718</td>\n",
       "      <td>0.778</td>\n",
       "      <td>0.123</td>\n",
       "      <td>17.0</td>\n",
       "    </tr>\n",
       "    <tr>\n",
       "      <th>12</th>\n",
       "      <td>1013</td>\n",
       "      <td>CHEESE,COTTAGE,CRMD,W/FRUIT</td>\n",
       "      <td>79.64</td>\n",
       "      <td>97</td>\n",
       "      <td>10.69</td>\n",
       "      <td>3.85</td>\n",
       "      <td>1.20</td>\n",
       "      <td>4.61</td>\n",
       "      <td>0.2</td>\n",
       "      <td>2.38</td>\n",
       "      <td>...</td>\n",
       "      <td>0.0</td>\n",
       "      <td>0.0</td>\n",
       "      <td>0.04</td>\n",
       "      <td>0.0</td>\n",
       "      <td>0.0</td>\n",
       "      <td>0.4</td>\n",
       "      <td>2.311</td>\n",
       "      <td>1.036</td>\n",
       "      <td>0.124</td>\n",
       "      <td>13.0</td>\n",
       "    </tr>\n",
       "    <tr>\n",
       "      <th>13</th>\n",
       "      <td>1014</td>\n",
       "      <td>CHEESE,COTTAGE,NONFAT,UNCRMD,DRY,LRG OR SML CURD</td>\n",
       "      <td>81.01</td>\n",
       "      <td>72</td>\n",
       "      <td>10.34</td>\n",
       "      <td>0.29</td>\n",
       "      <td>1.71</td>\n",
       "      <td>6.66</td>\n",
       "      <td>0.0</td>\n",
       "      <td>1.85</td>\n",
       "      <td>...</td>\n",
       "      <td>0.0</td>\n",
       "      <td>0.0</td>\n",
       "      <td>0.01</td>\n",
       "      <td>0.0</td>\n",
       "      <td>0.0</td>\n",
       "      <td>0.0</td>\n",
       "      <td>0.169</td>\n",
       "      <td>0.079</td>\n",
       "      <td>0.003</td>\n",
       "      <td>7.0</td>\n",
       "    </tr>\n",
       "    <tr>\n",
       "      <th>14</th>\n",
       "      <td>1015</td>\n",
       "      <td>CHEESE,COTTAGE,LOWFAT,2% MILKFAT</td>\n",
       "      <td>81.24</td>\n",
       "      <td>81</td>\n",
       "      <td>10.45</td>\n",
       "      <td>2.27</td>\n",
       "      <td>1.27</td>\n",
       "      <td>4.76</td>\n",
       "      <td>0.0</td>\n",
       "      <td>4.00</td>\n",
       "      <td>...</td>\n",
       "      <td>0.0</td>\n",
       "      <td>0.0</td>\n",
       "      <td>0.08</td>\n",
       "      <td>0.0</td>\n",
       "      <td>0.0</td>\n",
       "      <td>0.0</td>\n",
       "      <td>1.235</td>\n",
       "      <td>0.516</td>\n",
       "      <td>0.083</td>\n",
       "      <td>12.0</td>\n",
       "    </tr>\n",
       "    <tr>\n",
       "      <th>15</th>\n",
       "      <td>1016</td>\n",
       "      <td>CHEESE,COTTAGE,LOWFAT,1% MILKFAT</td>\n",
       "      <td>82.48</td>\n",
       "      <td>72</td>\n",
       "      <td>12.39</td>\n",
       "      <td>1.02</td>\n",
       "      <td>1.39</td>\n",
       "      <td>2.72</td>\n",
       "      <td>0.0</td>\n",
       "      <td>2.72</td>\n",
       "      <td>...</td>\n",
       "      <td>0.0</td>\n",
       "      <td>0.0</td>\n",
       "      <td>0.01</td>\n",
       "      <td>0.0</td>\n",
       "      <td>0.0</td>\n",
       "      <td>0.1</td>\n",
       "      <td>0.645</td>\n",
       "      <td>0.291</td>\n",
       "      <td>0.031</td>\n",
       "      <td>4.0</td>\n",
       "    </tr>\n",
       "    <tr>\n",
       "      <th>16</th>\n",
       "      <td>1017</td>\n",
       "      <td>CHEESE,CREAM</td>\n",
       "      <td>52.62</td>\n",
       "      <td>350</td>\n",
       "      <td>6.15</td>\n",
       "      <td>34.44</td>\n",
       "      <td>1.27</td>\n",
       "      <td>5.52</td>\n",
       "      <td>0.0</td>\n",
       "      <td>3.76</td>\n",
       "      <td>...</td>\n",
       "      <td>0.0</td>\n",
       "      <td>7.0</td>\n",
       "      <td>0.86</td>\n",
       "      <td>0.0</td>\n",
       "      <td>0.0</td>\n",
       "      <td>2.1</td>\n",
       "      <td>20.213</td>\n",
       "      <td>8.907</td>\n",
       "      <td>1.483</td>\n",
       "      <td>101.0</td>\n",
       "    </tr>\n",
       "    <tr>\n",
       "      <th>17</th>\n",
       "      <td>1018</td>\n",
       "      <td>CHEESE,EDAM</td>\n",
       "      <td>41.56</td>\n",
       "      <td>357</td>\n",
       "      <td>24.99</td>\n",
       "      <td>27.80</td>\n",
       "      <td>4.22</td>\n",
       "      <td>1.43</td>\n",
       "      <td>0.0</td>\n",
       "      <td>1.43</td>\n",
       "      <td>...</td>\n",
       "      <td>0.0</td>\n",
       "      <td>0.0</td>\n",
       "      <td>0.24</td>\n",
       "      <td>0.5</td>\n",
       "      <td>20.0</td>\n",
       "      <td>2.3</td>\n",
       "      <td>17.572</td>\n",
       "      <td>8.125</td>\n",
       "      <td>0.665</td>\n",
       "      <td>89.0</td>\n",
       "    </tr>\n",
       "    <tr>\n",
       "      <th>18</th>\n",
       "      <td>1019</td>\n",
       "      <td>CHEESE,FETA</td>\n",
       "      <td>55.22</td>\n",
       "      <td>264</td>\n",
       "      <td>14.21</td>\n",
       "      <td>21.28</td>\n",
       "      <td>5.20</td>\n",
       "      <td>4.09</td>\n",
       "      <td>0.0</td>\n",
       "      <td>4.09</td>\n",
       "      <td>...</td>\n",
       "      <td>0.0</td>\n",
       "      <td>0.0</td>\n",
       "      <td>0.18</td>\n",
       "      <td>0.4</td>\n",
       "      <td>16.0</td>\n",
       "      <td>1.8</td>\n",
       "      <td>14.946</td>\n",
       "      <td>4.623</td>\n",
       "      <td>0.591</td>\n",
       "      <td>89.0</td>\n",
       "    </tr>\n",
       "    <tr>\n",
       "      <th>19</th>\n",
       "      <td>1020</td>\n",
       "      <td>CHEESE,FONTINA</td>\n",
       "      <td>37.92</td>\n",
       "      <td>389</td>\n",
       "      <td>25.60</td>\n",
       "      <td>31.14</td>\n",
       "      <td>3.79</td>\n",
       "      <td>1.55</td>\n",
       "      <td>0.0</td>\n",
       "      <td>1.55</td>\n",
       "      <td>...</td>\n",
       "      <td>0.0</td>\n",
       "      <td>0.0</td>\n",
       "      <td>0.27</td>\n",
       "      <td>0.6</td>\n",
       "      <td>23.0</td>\n",
       "      <td>2.6</td>\n",
       "      <td>19.196</td>\n",
       "      <td>8.687</td>\n",
       "      <td>1.654</td>\n",
       "      <td>116.0</td>\n",
       "    </tr>\n",
       "    <tr>\n",
       "      <th>20</th>\n",
       "      <td>1021</td>\n",
       "      <td>CHEESE,GJETOST</td>\n",
       "      <td>13.44</td>\n",
       "      <td>466</td>\n",
       "      <td>9.65</td>\n",
       "      <td>29.51</td>\n",
       "      <td>4.75</td>\n",
       "      <td>42.65</td>\n",
       "      <td>0.0</td>\n",
       "      <td>NaN</td>\n",
       "      <td>...</td>\n",
       "      <td>NaN</td>\n",
       "      <td>NaN</td>\n",
       "      <td>NaN</td>\n",
       "      <td>NaN</td>\n",
       "      <td>NaN</td>\n",
       "      <td>NaN</td>\n",
       "      <td>19.160</td>\n",
       "      <td>7.879</td>\n",
       "      <td>0.938</td>\n",
       "      <td>94.0</td>\n",
       "    </tr>\n",
       "    <tr>\n",
       "      <th>21</th>\n",
       "      <td>1022</td>\n",
       "      <td>CHEESE,GOUDA</td>\n",
       "      <td>41.46</td>\n",
       "      <td>356</td>\n",
       "      <td>24.94</td>\n",
       "      <td>27.44</td>\n",
       "      <td>3.94</td>\n",
       "      <td>2.22</td>\n",
       "      <td>0.0</td>\n",
       "      <td>2.22</td>\n",
       "      <td>...</td>\n",
       "      <td>0.0</td>\n",
       "      <td>0.0</td>\n",
       "      <td>0.24</td>\n",
       "      <td>0.5</td>\n",
       "      <td>20.0</td>\n",
       "      <td>2.3</td>\n",
       "      <td>17.614</td>\n",
       "      <td>7.747</td>\n",
       "      <td>0.657</td>\n",
       "      <td>114.0</td>\n",
       "    </tr>\n",
       "    <tr>\n",
       "      <th>22</th>\n",
       "      <td>1023</td>\n",
       "      <td>CHEESE,GRUYERE</td>\n",
       "      <td>33.19</td>\n",
       "      <td>413</td>\n",
       "      <td>29.81</td>\n",
       "      <td>32.34</td>\n",
       "      <td>4.30</td>\n",
       "      <td>0.36</td>\n",
       "      <td>0.0</td>\n",
       "      <td>0.36</td>\n",
       "      <td>...</td>\n",
       "      <td>0.0</td>\n",
       "      <td>0.0</td>\n",
       "      <td>0.28</td>\n",
       "      <td>0.6</td>\n",
       "      <td>24.0</td>\n",
       "      <td>2.7</td>\n",
       "      <td>18.913</td>\n",
       "      <td>10.043</td>\n",
       "      <td>1.733</td>\n",
       "      <td>110.0</td>\n",
       "    </tr>\n",
       "    <tr>\n",
       "      <th>23</th>\n",
       "      <td>1024</td>\n",
       "      <td>CHEESE,LIMBURGER</td>\n",
       "      <td>48.42</td>\n",
       "      <td>327</td>\n",
       "      <td>20.05</td>\n",
       "      <td>27.25</td>\n",
       "      <td>3.79</td>\n",
       "      <td>0.49</td>\n",
       "      <td>0.0</td>\n",
       "      <td>0.49</td>\n",
       "      <td>...</td>\n",
       "      <td>0.0</td>\n",
       "      <td>0.0</td>\n",
       "      <td>0.23</td>\n",
       "      <td>0.5</td>\n",
       "      <td>20.0</td>\n",
       "      <td>2.3</td>\n",
       "      <td>16.746</td>\n",
       "      <td>8.606</td>\n",
       "      <td>0.495</td>\n",
       "      <td>90.0</td>\n",
       "    </tr>\n",
       "    <tr>\n",
       "      <th>24</th>\n",
       "      <td>1025</td>\n",
       "      <td>CHEESE,MONTEREY</td>\n",
       "      <td>41.01</td>\n",
       "      <td>373</td>\n",
       "      <td>24.48</td>\n",
       "      <td>30.28</td>\n",
       "      <td>3.55</td>\n",
       "      <td>0.68</td>\n",
       "      <td>0.0</td>\n",
       "      <td>0.50</td>\n",
       "      <td>...</td>\n",
       "      <td>0.0</td>\n",
       "      <td>0.0</td>\n",
       "      <td>0.26</td>\n",
       "      <td>0.6</td>\n",
       "      <td>22.0</td>\n",
       "      <td>2.5</td>\n",
       "      <td>19.066</td>\n",
       "      <td>8.751</td>\n",
       "      <td>0.899</td>\n",
       "      <td>89.0</td>\n",
       "    </tr>\n",
       "    <tr>\n",
       "      <th>25</th>\n",
       "      <td>1026</td>\n",
       "      <td>CHEESE,MOZZARELLA,WHL MILK</td>\n",
       "      <td>50.01</td>\n",
       "      <td>300</td>\n",
       "      <td>22.17</td>\n",
       "      <td>22.35</td>\n",
       "      <td>3.28</td>\n",
       "      <td>2.19</td>\n",
       "      <td>0.0</td>\n",
       "      <td>1.03</td>\n",
       "      <td>...</td>\n",
       "      <td>0.0</td>\n",
       "      <td>0.0</td>\n",
       "      <td>0.19</td>\n",
       "      <td>0.4</td>\n",
       "      <td>16.0</td>\n",
       "      <td>2.3</td>\n",
       "      <td>13.152</td>\n",
       "      <td>6.573</td>\n",
       "      <td>0.765</td>\n",
       "      <td>79.0</td>\n",
       "    </tr>\n",
       "    <tr>\n",
       "      <th>26</th>\n",
       "      <td>1027</td>\n",
       "      <td>CHEESE,MOZZARELLA,WHL MILK,LO MOIST</td>\n",
       "      <td>48.38</td>\n",
       "      <td>318</td>\n",
       "      <td>21.60</td>\n",
       "      <td>24.64</td>\n",
       "      <td>2.91</td>\n",
       "      <td>2.47</td>\n",
       "      <td>0.0</td>\n",
       "      <td>1.01</td>\n",
       "      <td>...</td>\n",
       "      <td>0.0</td>\n",
       "      <td>0.0</td>\n",
       "      <td>0.21</td>\n",
       "      <td>0.5</td>\n",
       "      <td>18.0</td>\n",
       "      <td>2.5</td>\n",
       "      <td>15.561</td>\n",
       "      <td>7.027</td>\n",
       "      <td>0.778</td>\n",
       "      <td>89.0</td>\n",
       "    </tr>\n",
       "    <tr>\n",
       "      <th>27</th>\n",
       "      <td>1028</td>\n",
       "      <td>CHEESE,MOZZARELLA,PART SKIM MILK</td>\n",
       "      <td>53.78</td>\n",
       "      <td>254</td>\n",
       "      <td>24.26</td>\n",
       "      <td>15.92</td>\n",
       "      <td>3.27</td>\n",
       "      <td>2.77</td>\n",
       "      <td>0.0</td>\n",
       "      <td>1.13</td>\n",
       "      <td>...</td>\n",
       "      <td>0.0</td>\n",
       "      <td>0.0</td>\n",
       "      <td>0.14</td>\n",
       "      <td>0.3</td>\n",
       "      <td>12.0</td>\n",
       "      <td>1.6</td>\n",
       "      <td>10.114</td>\n",
       "      <td>4.510</td>\n",
       "      <td>0.472</td>\n",
       "      <td>64.0</td>\n",
       "    </tr>\n",
       "    <tr>\n",
       "      <th>28</th>\n",
       "      <td>1029</td>\n",
       "      <td>CHEESE,MOZZARELLA,LO MOIST,PART-SKIM</td>\n",
       "      <td>47.07</td>\n",
       "      <td>295</td>\n",
       "      <td>23.75</td>\n",
       "      <td>19.78</td>\n",
       "      <td>3.83</td>\n",
       "      <td>5.58</td>\n",
       "      <td>0.0</td>\n",
       "      <td>1.90</td>\n",
       "      <td>...</td>\n",
       "      <td>0.0</td>\n",
       "      <td>0.0</td>\n",
       "      <td>0.50</td>\n",
       "      <td>0.4</td>\n",
       "      <td>15.0</td>\n",
       "      <td>1.3</td>\n",
       "      <td>11.295</td>\n",
       "      <td>5.741</td>\n",
       "      <td>1.019</td>\n",
       "      <td>64.0</td>\n",
       "    </tr>\n",
       "    <tr>\n",
       "      <th>29</th>\n",
       "      <td>1030</td>\n",
       "      <td>CHEESE,MUENSTER</td>\n",
       "      <td>41.77</td>\n",
       "      <td>368</td>\n",
       "      <td>23.41</td>\n",
       "      <td>30.04</td>\n",
       "      <td>3.66</td>\n",
       "      <td>1.12</td>\n",
       "      <td>0.0</td>\n",
       "      <td>1.12</td>\n",
       "      <td>...</td>\n",
       "      <td>0.0</td>\n",
       "      <td>0.0</td>\n",
       "      <td>0.26</td>\n",
       "      <td>0.6</td>\n",
       "      <td>22.0</td>\n",
       "      <td>2.5</td>\n",
       "      <td>19.113</td>\n",
       "      <td>8.711</td>\n",
       "      <td>0.661</td>\n",
       "      <td>96.0</td>\n",
       "    </tr>\n",
       "    <tr>\n",
       "      <th>...</th>\n",
       "      <td>...</td>\n",
       "      <td>...</td>\n",
       "      <td>...</td>\n",
       "      <td>...</td>\n",
       "      <td>...</td>\n",
       "      <td>...</td>\n",
       "      <td>...</td>\n",
       "      <td>...</td>\n",
       "      <td>...</td>\n",
       "      <td>...</td>\n",
       "      <td>...</td>\n",
       "      <td>...</td>\n",
       "      <td>...</td>\n",
       "      <td>...</td>\n",
       "      <td>...</td>\n",
       "      <td>...</td>\n",
       "      <td>...</td>\n",
       "      <td>...</td>\n",
       "      <td>...</td>\n",
       "      <td>...</td>\n",
       "      <td>...</td>\n",
       "    </tr>\n",
       "    <tr>\n",
       "      <th>8760</th>\n",
       "      <td>43544</td>\n",
       "      <td>BABYFOOD,CRL,RICE W/ PEARS &amp; APPL,DRY,INST FORT</td>\n",
       "      <td>2.00</td>\n",
       "      <td>389</td>\n",
       "      <td>6.60</td>\n",
       "      <td>0.90</td>\n",
       "      <td>2.00</td>\n",
       "      <td>88.50</td>\n",
       "      <td>2.6</td>\n",
       "      <td>1.35</td>\n",
       "      <td>...</td>\n",
       "      <td>0.0</td>\n",
       "      <td>1.0</td>\n",
       "      <td>0.13</td>\n",
       "      <td>0.0</td>\n",
       "      <td>0.0</td>\n",
       "      <td>0.3</td>\n",
       "      <td>0.185</td>\n",
       "      <td>0.252</td>\n",
       "      <td>0.231</td>\n",
       "      <td>0.0</td>\n",
       "    </tr>\n",
       "    <tr>\n",
       "      <th>8761</th>\n",
       "      <td>43546</td>\n",
       "      <td>BABYFOOD,BANANA NO TAPIOCA,STR</td>\n",
       "      <td>76.70</td>\n",
       "      <td>91</td>\n",
       "      <td>1.00</td>\n",
       "      <td>0.20</td>\n",
       "      <td>0.76</td>\n",
       "      <td>21.34</td>\n",
       "      <td>1.6</td>\n",
       "      <td>11.36</td>\n",
       "      <td>...</td>\n",
       "      <td>0.0</td>\n",
       "      <td>20.0</td>\n",
       "      <td>0.25</td>\n",
       "      <td>0.0</td>\n",
       "      <td>0.0</td>\n",
       "      <td>0.5</td>\n",
       "      <td>0.072</td>\n",
       "      <td>0.028</td>\n",
       "      <td>0.041</td>\n",
       "      <td>0.0</td>\n",
       "    </tr>\n",
       "    <tr>\n",
       "      <th>8762</th>\n",
       "      <td>43550</td>\n",
       "      <td>BABYFOOD,BANANA APPL DSSRT,STR</td>\n",
       "      <td>83.10</td>\n",
       "      <td>68</td>\n",
       "      <td>0.30</td>\n",
       "      <td>0.20</td>\n",
       "      <td>0.29</td>\n",
       "      <td>16.30</td>\n",
       "      <td>1.0</td>\n",
       "      <td>14.66</td>\n",
       "      <td>...</td>\n",
       "      <td>0.0</td>\n",
       "      <td>10.0</td>\n",
       "      <td>0.02</td>\n",
       "      <td>0.0</td>\n",
       "      <td>0.0</td>\n",
       "      <td>0.1</td>\n",
       "      <td>0.058</td>\n",
       "      <td>0.018</td>\n",
       "      <td>0.047</td>\n",
       "      <td>0.0</td>\n",
       "    </tr>\n",
       "    <tr>\n",
       "      <th>8763</th>\n",
       "      <td>43566</td>\n",
       "      <td>SNACKS,TORTILLA CHIPS,LT (BAKED W/ LESS OIL)</td>\n",
       "      <td>1.30</td>\n",
       "      <td>465</td>\n",
       "      <td>8.70</td>\n",
       "      <td>15.20</td>\n",
       "      <td>1.85</td>\n",
       "      <td>73.40</td>\n",
       "      <td>5.7</td>\n",
       "      <td>0.53</td>\n",
       "      <td>...</td>\n",
       "      <td>0.0</td>\n",
       "      <td>507.0</td>\n",
       "      <td>3.53</td>\n",
       "      <td>0.0</td>\n",
       "      <td>0.0</td>\n",
       "      <td>0.7</td>\n",
       "      <td>2.837</td>\n",
       "      <td>6.341</td>\n",
       "      <td>5.024</td>\n",
       "      <td>0.0</td>\n",
       "    </tr>\n",
       "    <tr>\n",
       "      <th>8764</th>\n",
       "      <td>43570</td>\n",
       "      <td>CEREALS RTE,POST,HONEY BUNCHES OF OATS,HONEY RSTD</td>\n",
       "      <td>5.00</td>\n",
       "      <td>401</td>\n",
       "      <td>7.12</td>\n",
       "      <td>5.46</td>\n",
       "      <td>1.22</td>\n",
       "      <td>81.19</td>\n",
       "      <td>4.2</td>\n",
       "      <td>19.79</td>\n",
       "      <td>...</td>\n",
       "      <td>0.0</td>\n",
       "      <td>445.0</td>\n",
       "      <td>1.22</td>\n",
       "      <td>4.6</td>\n",
       "      <td>183.0</td>\n",
       "      <td>3.0</td>\n",
       "      <td>0.640</td>\n",
       "      <td>2.831</td>\n",
       "      <td>1.307</td>\n",
       "      <td>0.0</td>\n",
       "    </tr>\n",
       "    <tr>\n",
       "      <th>8765</th>\n",
       "      <td>43572</td>\n",
       "      <td>POPCORN,MICROWAVE,LOFAT&amp;NA</td>\n",
       "      <td>2.80</td>\n",
       "      <td>429</td>\n",
       "      <td>12.60</td>\n",
       "      <td>9.50</td>\n",
       "      <td>1.71</td>\n",
       "      <td>73.39</td>\n",
       "      <td>14.2</td>\n",
       "      <td>0.54</td>\n",
       "      <td>...</td>\n",
       "      <td>0.0</td>\n",
       "      <td>1087.0</td>\n",
       "      <td>5.01</td>\n",
       "      <td>0.0</td>\n",
       "      <td>0.0</td>\n",
       "      <td>15.7</td>\n",
       "      <td>1.415</td>\n",
       "      <td>4.085</td>\n",
       "      <td>3.572</td>\n",
       "      <td>0.0</td>\n",
       "    </tr>\n",
       "    <tr>\n",
       "      <th>8766</th>\n",
       "      <td>43585</td>\n",
       "      <td>BABYFOOD,FRUIT SUPREME DSSRT</td>\n",
       "      <td>81.60</td>\n",
       "      <td>73</td>\n",
       "      <td>0.50</td>\n",
       "      <td>0.20</td>\n",
       "      <td>0.52</td>\n",
       "      <td>17.18</td>\n",
       "      <td>2.0</td>\n",
       "      <td>14.87</td>\n",
       "      <td>...</td>\n",
       "      <td>0.0</td>\n",
       "      <td>149.0</td>\n",
       "      <td>0.79</td>\n",
       "      <td>0.0</td>\n",
       "      <td>0.0</td>\n",
       "      <td>5.1</td>\n",
       "      <td>0.030</td>\n",
       "      <td>0.025</td>\n",
       "      <td>0.068</td>\n",
       "      <td>0.0</td>\n",
       "    </tr>\n",
       "    <tr>\n",
       "      <th>8767</th>\n",
       "      <td>43589</td>\n",
       "      <td>CHEESE,SWISS,LOW FAT</td>\n",
       "      <td>59.60</td>\n",
       "      <td>179</td>\n",
       "      <td>28.40</td>\n",
       "      <td>5.10</td>\n",
       "      <td>3.50</td>\n",
       "      <td>3.40</td>\n",
       "      <td>0.0</td>\n",
       "      <td>1.33</td>\n",
       "      <td>...</td>\n",
       "      <td>0.0</td>\n",
       "      <td>0.0</td>\n",
       "      <td>0.07</td>\n",
       "      <td>0.1</td>\n",
       "      <td>4.0</td>\n",
       "      <td>0.5</td>\n",
       "      <td>3.304</td>\n",
       "      <td>1.351</td>\n",
       "      <td>0.180</td>\n",
       "      <td>35.0</td>\n",
       "    </tr>\n",
       "    <tr>\n",
       "      <th>8768</th>\n",
       "      <td>43595</td>\n",
       "      <td>BREAKFAST BAR,CORN FLAKE CRUST W/FRUIT</td>\n",
       "      <td>14.50</td>\n",
       "      <td>377</td>\n",
       "      <td>4.40</td>\n",
       "      <td>7.50</td>\n",
       "      <td>0.80</td>\n",
       "      <td>72.90</td>\n",
       "      <td>2.1</td>\n",
       "      <td>35.10</td>\n",
       "      <td>...</td>\n",
       "      <td>0.0</td>\n",
       "      <td>40.0</td>\n",
       "      <td>0.76</td>\n",
       "      <td>0.0</td>\n",
       "      <td>0.0</td>\n",
       "      <td>13.8</td>\n",
       "      <td>1.500</td>\n",
       "      <td>5.000</td>\n",
       "      <td>0.900</td>\n",
       "      <td>0.0</td>\n",
       "    </tr>\n",
       "    <tr>\n",
       "      <th>8769</th>\n",
       "      <td>43597</td>\n",
       "      <td>CHEESE,MOZZARELLA,LO NA</td>\n",
       "      <td>49.90</td>\n",
       "      <td>280</td>\n",
       "      <td>27.50</td>\n",
       "      <td>17.10</td>\n",
       "      <td>2.40</td>\n",
       "      <td>3.10</td>\n",
       "      <td>0.0</td>\n",
       "      <td>1.23</td>\n",
       "      <td>...</td>\n",
       "      <td>0.0</td>\n",
       "      <td>0.0</td>\n",
       "      <td>0.15</td>\n",
       "      <td>0.3</td>\n",
       "      <td>13.0</td>\n",
       "      <td>1.8</td>\n",
       "      <td>10.867</td>\n",
       "      <td>4.844</td>\n",
       "      <td>0.509</td>\n",
       "      <td>54.0</td>\n",
       "    </tr>\n",
       "    <tr>\n",
       "      <th>8770</th>\n",
       "      <td>43598</td>\n",
       "      <td>MAYONNAISE DRSNG,NO CHOL</td>\n",
       "      <td>21.70</td>\n",
       "      <td>688</td>\n",
       "      <td>0.00</td>\n",
       "      <td>77.80</td>\n",
       "      <td>0.40</td>\n",
       "      <td>0.30</td>\n",
       "      <td>0.0</td>\n",
       "      <td>0.30</td>\n",
       "      <td>...</td>\n",
       "      <td>0.0</td>\n",
       "      <td>0.0</td>\n",
       "      <td>11.79</td>\n",
       "      <td>0.0</td>\n",
       "      <td>0.0</td>\n",
       "      <td>24.7</td>\n",
       "      <td>10.784</td>\n",
       "      <td>18.026</td>\n",
       "      <td>45.539</td>\n",
       "      <td>0.0</td>\n",
       "    </tr>\n",
       "    <tr>\n",
       "      <th>8771</th>\n",
       "      <td>44005</td>\n",
       "      <td>OIL,CORN,PEANUT,AND OLIVE</td>\n",
       "      <td>0.00</td>\n",
       "      <td>884</td>\n",
       "      <td>0.00</td>\n",
       "      <td>100.00</td>\n",
       "      <td>0.00</td>\n",
       "      <td>0.00</td>\n",
       "      <td>0.0</td>\n",
       "      <td>0.00</td>\n",
       "      <td>...</td>\n",
       "      <td>0.0</td>\n",
       "      <td>0.0</td>\n",
       "      <td>14.78</td>\n",
       "      <td>0.0</td>\n",
       "      <td>0.0</td>\n",
       "      <td>21.0</td>\n",
       "      <td>14.367</td>\n",
       "      <td>48.033</td>\n",
       "      <td>33.033</td>\n",
       "      <td>0.0</td>\n",
       "    </tr>\n",
       "    <tr>\n",
       "      <th>8772</th>\n",
       "      <td>44018</td>\n",
       "      <td>SWEETENERS,TABLETOP,FRUCTOSE,LIQ</td>\n",
       "      <td>23.90</td>\n",
       "      <td>279</td>\n",
       "      <td>0.00</td>\n",
       "      <td>0.00</td>\n",
       "      <td>0.00</td>\n",
       "      <td>76.10</td>\n",
       "      <td>0.1</td>\n",
       "      <td>76.00</td>\n",
       "      <td>...</td>\n",
       "      <td>0.0</td>\n",
       "      <td>0.0</td>\n",
       "      <td>0.00</td>\n",
       "      <td>0.0</td>\n",
       "      <td>0.0</td>\n",
       "      <td>0.0</td>\n",
       "      <td>0.000</td>\n",
       "      <td>0.000</td>\n",
       "      <td>0.000</td>\n",
       "      <td>0.0</td>\n",
       "    </tr>\n",
       "    <tr>\n",
       "      <th>8773</th>\n",
       "      <td>44048</td>\n",
       "      <td>CHEESE FOOD,IMITATION</td>\n",
       "      <td>55.50</td>\n",
       "      <td>257</td>\n",
       "      <td>4.08</td>\n",
       "      <td>19.50</td>\n",
       "      <td>4.74</td>\n",
       "      <td>16.18</td>\n",
       "      <td>0.0</td>\n",
       "      <td>8.21</td>\n",
       "      <td>...</td>\n",
       "      <td>0.0</td>\n",
       "      <td>1.0</td>\n",
       "      <td>2.15</td>\n",
       "      <td>0.0</td>\n",
       "      <td>0.0</td>\n",
       "      <td>36.7</td>\n",
       "      <td>7.996</td>\n",
       "      <td>3.108</td>\n",
       "      <td>7.536</td>\n",
       "      <td>6.0</td>\n",
       "    </tr>\n",
       "    <tr>\n",
       "      <th>8774</th>\n",
       "      <td>44055</td>\n",
       "      <td>CELERY FLAKES,DRIED</td>\n",
       "      <td>9.00</td>\n",
       "      <td>319</td>\n",
       "      <td>11.30</td>\n",
       "      <td>2.10</td>\n",
       "      <td>13.90</td>\n",
       "      <td>63.70</td>\n",
       "      <td>27.8</td>\n",
       "      <td>35.90</td>\n",
       "      <td>...</td>\n",
       "      <td>0.0</td>\n",
       "      <td>5076.0</td>\n",
       "      <td>5.55</td>\n",
       "      <td>0.0</td>\n",
       "      <td>0.0</td>\n",
       "      <td>584.2</td>\n",
       "      <td>0.555</td>\n",
       "      <td>0.405</td>\n",
       "      <td>1.035</td>\n",
       "      <td>0.0</td>\n",
       "    </tr>\n",
       "    <tr>\n",
       "      <th>8775</th>\n",
       "      <td>44061</td>\n",
       "      <td>PUDDINGS,CHOC FLAVOR,LO CAL,INST,DRY MIX</td>\n",
       "      <td>4.20</td>\n",
       "      <td>356</td>\n",
       "      <td>5.30</td>\n",
       "      <td>2.40</td>\n",
       "      <td>9.90</td>\n",
       "      <td>78.20</td>\n",
       "      <td>6.1</td>\n",
       "      <td>0.70</td>\n",
       "      <td>...</td>\n",
       "      <td>0.0</td>\n",
       "      <td>7.0</td>\n",
       "      <td>0.02</td>\n",
       "      <td>0.0</td>\n",
       "      <td>0.0</td>\n",
       "      <td>0.4</td>\n",
       "      <td>0.984</td>\n",
       "      <td>1.154</td>\n",
       "      <td>0.131</td>\n",
       "      <td>0.0</td>\n",
       "    </tr>\n",
       "    <tr>\n",
       "      <th>8776</th>\n",
       "      <td>44074</td>\n",
       "      <td>BABYFOOD,GRAPE JUC,NO SUGAR,CND</td>\n",
       "      <td>84.40</td>\n",
       "      <td>62</td>\n",
       "      <td>0.00</td>\n",
       "      <td>0.00</td>\n",
       "      <td>0.22</td>\n",
       "      <td>15.38</td>\n",
       "      <td>0.0</td>\n",
       "      <td>15.30</td>\n",
       "      <td>...</td>\n",
       "      <td>0.0</td>\n",
       "      <td>83.0</td>\n",
       "      <td>0.00</td>\n",
       "      <td>0.0</td>\n",
       "      <td>0.0</td>\n",
       "      <td>16.9</td>\n",
       "      <td>0.000</td>\n",
       "      <td>0.000</td>\n",
       "      <td>0.000</td>\n",
       "      <td>0.0</td>\n",
       "    </tr>\n",
       "    <tr>\n",
       "      <th>8777</th>\n",
       "      <td>44110</td>\n",
       "      <td>JELLIES,RED SUGAR,HOME PRESERVED</td>\n",
       "      <td>53.00</td>\n",
       "      <td>179</td>\n",
       "      <td>0.30</td>\n",
       "      <td>0.03</td>\n",
       "      <td>0.08</td>\n",
       "      <td>46.10</td>\n",
       "      <td>0.8</td>\n",
       "      <td>45.30</td>\n",
       "      <td>...</td>\n",
       "      <td>0.0</td>\n",
       "      <td>14.0</td>\n",
       "      <td>0.00</td>\n",
       "      <td>0.0</td>\n",
       "      <td>0.0</td>\n",
       "      <td>0.2</td>\n",
       "      <td>0.009</td>\n",
       "      <td>0.001</td>\n",
       "      <td>0.008</td>\n",
       "      <td>0.0</td>\n",
       "    </tr>\n",
       "    <tr>\n",
       "      <th>8778</th>\n",
       "      <td>44158</td>\n",
       "      <td>PIE FILLINGS,BLUEBERRY,CND</td>\n",
       "      <td>54.66</td>\n",
       "      <td>181</td>\n",
       "      <td>0.41</td>\n",
       "      <td>0.20</td>\n",
       "      <td>0.35</td>\n",
       "      <td>44.38</td>\n",
       "      <td>2.6</td>\n",
       "      <td>37.75</td>\n",
       "      <td>...</td>\n",
       "      <td>0.0</td>\n",
       "      <td>33.0</td>\n",
       "      <td>0.23</td>\n",
       "      <td>0.0</td>\n",
       "      <td>0.0</td>\n",
       "      <td>3.9</td>\n",
       "      <td>0.000</td>\n",
       "      <td>0.000</td>\n",
       "      <td>0.000</td>\n",
       "      <td>0.0</td>\n",
       "    </tr>\n",
       "    <tr>\n",
       "      <th>8779</th>\n",
       "      <td>44203</td>\n",
       "      <td>BEVERAGES,COCKTAIL MIX,NON-ALCOHOLIC,CONCD,FRZ</td>\n",
       "      <td>28.24</td>\n",
       "      <td>287</td>\n",
       "      <td>0.08</td>\n",
       "      <td>0.01</td>\n",
       "      <td>0.07</td>\n",
       "      <td>71.60</td>\n",
       "      <td>0.0</td>\n",
       "      <td>24.53</td>\n",
       "      <td>...</td>\n",
       "      <td>0.0</td>\n",
       "      <td>12.0</td>\n",
       "      <td>0.02</td>\n",
       "      <td>0.0</td>\n",
       "      <td>0.0</td>\n",
       "      <td>0.0</td>\n",
       "      <td>0.003</td>\n",
       "      <td>0.001</td>\n",
       "      <td>0.009</td>\n",
       "      <td>0.0</td>\n",
       "    </tr>\n",
       "    <tr>\n",
       "      <th>8780</th>\n",
       "      <td>44258</td>\n",
       "      <td>PUDDINGS,CHOC FLAVOR,LO CAL,REG,DRY MIX</td>\n",
       "      <td>6.80</td>\n",
       "      <td>365</td>\n",
       "      <td>10.08</td>\n",
       "      <td>3.00</td>\n",
       "      <td>5.70</td>\n",
       "      <td>74.42</td>\n",
       "      <td>10.1</td>\n",
       "      <td>0.70</td>\n",
       "      <td>...</td>\n",
       "      <td>0.0</td>\n",
       "      <td>9.0</td>\n",
       "      <td>0.02</td>\n",
       "      <td>0.0</td>\n",
       "      <td>0.0</td>\n",
       "      <td>0.5</td>\n",
       "      <td>1.578</td>\n",
       "      <td>1.150</td>\n",
       "      <td>0.130</td>\n",
       "      <td>0.0</td>\n",
       "    </tr>\n",
       "    <tr>\n",
       "      <th>8781</th>\n",
       "      <td>44259</td>\n",
       "      <td>PUDDINGS,ALL FLAVORS XCPT CHOC,LO CAL,REG,DRY MIX</td>\n",
       "      <td>10.40</td>\n",
       "      <td>351</td>\n",
       "      <td>1.60</td>\n",
       "      <td>0.10</td>\n",
       "      <td>1.86</td>\n",
       "      <td>86.04</td>\n",
       "      <td>0.9</td>\n",
       "      <td>2.90</td>\n",
       "      <td>...</td>\n",
       "      <td>0.0</td>\n",
       "      <td>0.0</td>\n",
       "      <td>0.05</td>\n",
       "      <td>0.0</td>\n",
       "      <td>0.0</td>\n",
       "      <td>1.1</td>\n",
       "      <td>0.018</td>\n",
       "      <td>0.032</td>\n",
       "      <td>0.050</td>\n",
       "      <td>0.0</td>\n",
       "    </tr>\n",
       "    <tr>\n",
       "      <th>8782</th>\n",
       "      <td>44260</td>\n",
       "      <td>PUDDINGS,ALL FLAVORS XCPT CHOC,LO CAL,INST,DRY...</td>\n",
       "      <td>6.84</td>\n",
       "      <td>350</td>\n",
       "      <td>0.81</td>\n",
       "      <td>0.90</td>\n",
       "      <td>6.80</td>\n",
       "      <td>84.66</td>\n",
       "      <td>0.8</td>\n",
       "      <td>0.90</td>\n",
       "      <td>...</td>\n",
       "      <td>0.0</td>\n",
       "      <td>0.0</td>\n",
       "      <td>0.08</td>\n",
       "      <td>0.0</td>\n",
       "      <td>0.0</td>\n",
       "      <td>1.7</td>\n",
       "      <td>0.099</td>\n",
       "      <td>0.116</td>\n",
       "      <td>0.433</td>\n",
       "      <td>0.0</td>\n",
       "    </tr>\n",
       "    <tr>\n",
       "      <th>8783</th>\n",
       "      <td>48052</td>\n",
       "      <td>VITAL WHEAT GLUTEN</td>\n",
       "      <td>8.20</td>\n",
       "      <td>370</td>\n",
       "      <td>75.16</td>\n",
       "      <td>1.85</td>\n",
       "      <td>1.00</td>\n",
       "      <td>13.79</td>\n",
       "      <td>0.6</td>\n",
       "      <td>0.00</td>\n",
       "      <td>...</td>\n",
       "      <td>0.0</td>\n",
       "      <td>0.0</td>\n",
       "      <td>0.00</td>\n",
       "      <td>0.0</td>\n",
       "      <td>0.0</td>\n",
       "      <td>0.0</td>\n",
       "      <td>0.272</td>\n",
       "      <td>0.156</td>\n",
       "      <td>0.810</td>\n",
       "      <td>0.0</td>\n",
       "    </tr>\n",
       "    <tr>\n",
       "      <th>8784</th>\n",
       "      <td>80200</td>\n",
       "      <td>FROG LEGS,RAW</td>\n",
       "      <td>81.90</td>\n",
       "      <td>73</td>\n",
       "      <td>16.40</td>\n",
       "      <td>0.30</td>\n",
       "      <td>1.40</td>\n",
       "      <td>0.00</td>\n",
       "      <td>0.0</td>\n",
       "      <td>0.00</td>\n",
       "      <td>...</td>\n",
       "      <td>0.0</td>\n",
       "      <td>0.0</td>\n",
       "      <td>1.00</td>\n",
       "      <td>0.2</td>\n",
       "      <td>8.0</td>\n",
       "      <td>0.1</td>\n",
       "      <td>0.076</td>\n",
       "      <td>0.053</td>\n",
       "      <td>0.102</td>\n",
       "      <td>50.0</td>\n",
       "    </tr>\n",
       "    <tr>\n",
       "      <th>8785</th>\n",
       "      <td>83110</td>\n",
       "      <td>MACKEREL,SALTED</td>\n",
       "      <td>43.00</td>\n",
       "      <td>305</td>\n",
       "      <td>18.50</td>\n",
       "      <td>25.10</td>\n",
       "      <td>13.40</td>\n",
       "      <td>0.00</td>\n",
       "      <td>0.0</td>\n",
       "      <td>0.00</td>\n",
       "      <td>...</td>\n",
       "      <td>0.0</td>\n",
       "      <td>0.0</td>\n",
       "      <td>2.38</td>\n",
       "      <td>25.2</td>\n",
       "      <td>1006.0</td>\n",
       "      <td>7.8</td>\n",
       "      <td>7.148</td>\n",
       "      <td>8.320</td>\n",
       "      <td>6.210</td>\n",
       "      <td>95.0</td>\n",
       "    </tr>\n",
       "    <tr>\n",
       "      <th>8786</th>\n",
       "      <td>90240</td>\n",
       "      <td>SCALLOP,(BAY&amp;SEA),CKD,STMD</td>\n",
       "      <td>70.25</td>\n",
       "      <td>111</td>\n",
       "      <td>20.54</td>\n",
       "      <td>0.84</td>\n",
       "      <td>2.97</td>\n",
       "      <td>5.41</td>\n",
       "      <td>0.0</td>\n",
       "      <td>0.00</td>\n",
       "      <td>...</td>\n",
       "      <td>0.0</td>\n",
       "      <td>0.0</td>\n",
       "      <td>0.00</td>\n",
       "      <td>0.0</td>\n",
       "      <td>2.0</td>\n",
       "      <td>0.0</td>\n",
       "      <td>0.218</td>\n",
       "      <td>0.082</td>\n",
       "      <td>0.222</td>\n",
       "      <td>41.0</td>\n",
       "    </tr>\n",
       "    <tr>\n",
       "      <th>8787</th>\n",
       "      <td>90480</td>\n",
       "      <td>SYRUP,CANE</td>\n",
       "      <td>26.00</td>\n",
       "      <td>269</td>\n",
       "      <td>0.00</td>\n",
       "      <td>0.00</td>\n",
       "      <td>0.86</td>\n",
       "      <td>73.14</td>\n",
       "      <td>0.0</td>\n",
       "      <td>73.20</td>\n",
       "      <td>...</td>\n",
       "      <td>0.0</td>\n",
       "      <td>0.0</td>\n",
       "      <td>0.00</td>\n",
       "      <td>0.0</td>\n",
       "      <td>0.0</td>\n",
       "      <td>0.0</td>\n",
       "      <td>0.000</td>\n",
       "      <td>0.000</td>\n",
       "      <td>0.000</td>\n",
       "      <td>0.0</td>\n",
       "    </tr>\n",
       "    <tr>\n",
       "      <th>8788</th>\n",
       "      <td>90560</td>\n",
       "      <td>SNAIL,RAW</td>\n",
       "      <td>79.20</td>\n",
       "      <td>90</td>\n",
       "      <td>16.10</td>\n",
       "      <td>1.40</td>\n",
       "      <td>1.30</td>\n",
       "      <td>2.00</td>\n",
       "      <td>0.0</td>\n",
       "      <td>0.00</td>\n",
       "      <td>...</td>\n",
       "      <td>0.0</td>\n",
       "      <td>0.0</td>\n",
       "      <td>5.00</td>\n",
       "      <td>0.0</td>\n",
       "      <td>0.0</td>\n",
       "      <td>0.1</td>\n",
       "      <td>0.361</td>\n",
       "      <td>0.259</td>\n",
       "      <td>0.252</td>\n",
       "      <td>50.0</td>\n",
       "    </tr>\n",
       "    <tr>\n",
       "      <th>8789</th>\n",
       "      <td>93600</td>\n",
       "      <td>TURTLE,GREEN,RAW</td>\n",
       "      <td>78.50</td>\n",
       "      <td>89</td>\n",
       "      <td>19.80</td>\n",
       "      <td>0.50</td>\n",
       "      <td>1.20</td>\n",
       "      <td>0.00</td>\n",
       "      <td>0.0</td>\n",
       "      <td>0.00</td>\n",
       "      <td>...</td>\n",
       "      <td>0.0</td>\n",
       "      <td>0.0</td>\n",
       "      <td>0.50</td>\n",
       "      <td>0.0</td>\n",
       "      <td>0.0</td>\n",
       "      <td>0.1</td>\n",
       "      <td>0.127</td>\n",
       "      <td>0.088</td>\n",
       "      <td>0.170</td>\n",
       "      <td>50.0</td>\n",
       "    </tr>\n",
       "  </tbody>\n",
       "</table>\n",
       "<p>8790 rows × 48 columns</p>\n",
       "</div>"
      ],
      "text/plain": [
       "      NDB_No                                          Shrt_Desc  Water_(g)  \\\n",
       "0       1001                                   BUTTER,WITH SALT      15.87   \n",
       "1       1002                             BUTTER,WHIPPED,W/ SALT      16.72   \n",
       "2       1003                               BUTTER OIL,ANHYDROUS       0.24   \n",
       "3       1004                                        CHEESE,BLUE      42.41   \n",
       "4       1005                                       CHEESE,BRICK      41.11   \n",
       "5       1006                                        CHEESE,BRIE      48.42   \n",
       "6       1007                                   CHEESE,CAMEMBERT      51.80   \n",
       "7       1008                                     CHEESE,CARAWAY      39.28   \n",
       "8       1009                                     CHEESE,CHEDDAR      37.02   \n",
       "9       1010                                    CHEESE,CHESHIRE      37.65   \n",
       "10      1011                                       CHEESE,COLBY      38.20   \n",
       "11      1012                CHEESE,COTTAGE,CRMD,LRG OR SML CURD      79.79   \n",
       "12      1013                        CHEESE,COTTAGE,CRMD,W/FRUIT      79.64   \n",
       "13      1014   CHEESE,COTTAGE,NONFAT,UNCRMD,DRY,LRG OR SML CURD      81.01   \n",
       "14      1015                   CHEESE,COTTAGE,LOWFAT,2% MILKFAT      81.24   \n",
       "15      1016                   CHEESE,COTTAGE,LOWFAT,1% MILKFAT      82.48   \n",
       "16      1017                                       CHEESE,CREAM      52.62   \n",
       "17      1018                                        CHEESE,EDAM      41.56   \n",
       "18      1019                                        CHEESE,FETA      55.22   \n",
       "19      1020                                     CHEESE,FONTINA      37.92   \n",
       "20      1021                                     CHEESE,GJETOST      13.44   \n",
       "21      1022                                       CHEESE,GOUDA      41.46   \n",
       "22      1023                                     CHEESE,GRUYERE      33.19   \n",
       "23      1024                                   CHEESE,LIMBURGER      48.42   \n",
       "24      1025                                    CHEESE,MONTEREY      41.01   \n",
       "25      1026                         CHEESE,MOZZARELLA,WHL MILK      50.01   \n",
       "26      1027                CHEESE,MOZZARELLA,WHL MILK,LO MOIST      48.38   \n",
       "27      1028                   CHEESE,MOZZARELLA,PART SKIM MILK      53.78   \n",
       "28      1029               CHEESE,MOZZARELLA,LO MOIST,PART-SKIM      47.07   \n",
       "29      1030                                    CHEESE,MUENSTER      41.77   \n",
       "...      ...                                                ...        ...   \n",
       "8760   43544    BABYFOOD,CRL,RICE W/ PEARS & APPL,DRY,INST FORT       2.00   \n",
       "8761   43546                     BABYFOOD,BANANA NO TAPIOCA,STR      76.70   \n",
       "8762   43550                     BABYFOOD,BANANA APPL DSSRT,STR      83.10   \n",
       "8763   43566       SNACKS,TORTILLA CHIPS,LT (BAKED W/ LESS OIL)       1.30   \n",
       "8764   43570  CEREALS RTE,POST,HONEY BUNCHES OF OATS,HONEY RSTD       5.00   \n",
       "8765   43572                         POPCORN,MICROWAVE,LOFAT&NA       2.80   \n",
       "8766   43585                       BABYFOOD,FRUIT SUPREME DSSRT      81.60   \n",
       "8767   43589                               CHEESE,SWISS,LOW FAT      59.60   \n",
       "8768   43595             BREAKFAST BAR,CORN FLAKE CRUST W/FRUIT      14.50   \n",
       "8769   43597                            CHEESE,MOZZARELLA,LO NA      49.90   \n",
       "8770   43598                           MAYONNAISE DRSNG,NO CHOL      21.70   \n",
       "8771   44005                          OIL,CORN,PEANUT,AND OLIVE       0.00   \n",
       "8772   44018                   SWEETENERS,TABLETOP,FRUCTOSE,LIQ      23.90   \n",
       "8773   44048                              CHEESE FOOD,IMITATION      55.50   \n",
       "8774   44055                                CELERY FLAKES,DRIED       9.00   \n",
       "8775   44061           PUDDINGS,CHOC FLAVOR,LO CAL,INST,DRY MIX       4.20   \n",
       "8776   44074                    BABYFOOD,GRAPE JUC,NO SUGAR,CND      84.40   \n",
       "8777   44110                   JELLIES,RED SUGAR,HOME PRESERVED      53.00   \n",
       "8778   44158                         PIE FILLINGS,BLUEBERRY,CND      54.66   \n",
       "8779   44203     BEVERAGES,COCKTAIL MIX,NON-ALCOHOLIC,CONCD,FRZ      28.24   \n",
       "8780   44258            PUDDINGS,CHOC FLAVOR,LO CAL,REG,DRY MIX       6.80   \n",
       "8781   44259  PUDDINGS,ALL FLAVORS XCPT CHOC,LO CAL,REG,DRY MIX      10.40   \n",
       "8782   44260  PUDDINGS,ALL FLAVORS XCPT CHOC,LO CAL,INST,DRY...       6.84   \n",
       "8783   48052                                 VITAL WHEAT GLUTEN       8.20   \n",
       "8784   80200                                      FROG LEGS,RAW      81.90   \n",
       "8785   83110                                    MACKEREL,SALTED      43.00   \n",
       "8786   90240                         SCALLOP,(BAY&SEA),CKD,STMD      70.25   \n",
       "8787   90480                                         SYRUP,CANE      26.00   \n",
       "8788   90560                                          SNAIL,RAW      79.20   \n",
       "8789   93600                                   TURTLE,GREEN,RAW      78.50   \n",
       "\n",
       "      Energ_Kcal  Protein_(g)  Lipid_Tot_(g)  Ash_(g)  Carbohydrt_(g)  \\\n",
       "0            717         0.85          81.11     2.11            0.06   \n",
       "1            718         0.49          78.30     1.62            2.87   \n",
       "2            876         0.28          99.48     0.00            0.00   \n",
       "3            353        21.40          28.74     5.11            2.34   \n",
       "4            371        23.24          29.68     3.18            2.79   \n",
       "5            334        20.75          27.68     2.70            0.45   \n",
       "6            300        19.80          24.26     3.68            0.46   \n",
       "7            376        25.18          29.20     3.28            3.06   \n",
       "8            404        22.87          33.31     3.71            3.09   \n",
       "9            387        23.37          30.60     3.60            4.78   \n",
       "10           394        23.76          32.11     3.36            2.57   \n",
       "11            98        11.12           4.30     1.41            3.38   \n",
       "12            97        10.69           3.85     1.20            4.61   \n",
       "13            72        10.34           0.29     1.71            6.66   \n",
       "14            81        10.45           2.27     1.27            4.76   \n",
       "15            72        12.39           1.02     1.39            2.72   \n",
       "16           350         6.15          34.44     1.27            5.52   \n",
       "17           357        24.99          27.80     4.22            1.43   \n",
       "18           264        14.21          21.28     5.20            4.09   \n",
       "19           389        25.60          31.14     3.79            1.55   \n",
       "20           466         9.65          29.51     4.75           42.65   \n",
       "21           356        24.94          27.44     3.94            2.22   \n",
       "22           413        29.81          32.34     4.30            0.36   \n",
       "23           327        20.05          27.25     3.79            0.49   \n",
       "24           373        24.48          30.28     3.55            0.68   \n",
       "25           300        22.17          22.35     3.28            2.19   \n",
       "26           318        21.60          24.64     2.91            2.47   \n",
       "27           254        24.26          15.92     3.27            2.77   \n",
       "28           295        23.75          19.78     3.83            5.58   \n",
       "29           368        23.41          30.04     3.66            1.12   \n",
       "...          ...          ...            ...      ...             ...   \n",
       "8760         389         6.60           0.90     2.00           88.50   \n",
       "8761          91         1.00           0.20     0.76           21.34   \n",
       "8762          68         0.30           0.20     0.29           16.30   \n",
       "8763         465         8.70          15.20     1.85           73.40   \n",
       "8764         401         7.12           5.46     1.22           81.19   \n",
       "8765         429        12.60           9.50     1.71           73.39   \n",
       "8766          73         0.50           0.20     0.52           17.18   \n",
       "8767         179        28.40           5.10     3.50            3.40   \n",
       "8768         377         4.40           7.50     0.80           72.90   \n",
       "8769         280        27.50          17.10     2.40            3.10   \n",
       "8770         688         0.00          77.80     0.40            0.30   \n",
       "8771         884         0.00         100.00     0.00            0.00   \n",
       "8772         279         0.00           0.00     0.00           76.10   \n",
       "8773         257         4.08          19.50     4.74           16.18   \n",
       "8774         319        11.30           2.10    13.90           63.70   \n",
       "8775         356         5.30           2.40     9.90           78.20   \n",
       "8776          62         0.00           0.00     0.22           15.38   \n",
       "8777         179         0.30           0.03     0.08           46.10   \n",
       "8778         181         0.41           0.20     0.35           44.38   \n",
       "8779         287         0.08           0.01     0.07           71.60   \n",
       "8780         365        10.08           3.00     5.70           74.42   \n",
       "8781         351         1.60           0.10     1.86           86.04   \n",
       "8782         350         0.81           0.90     6.80           84.66   \n",
       "8783         370        75.16           1.85     1.00           13.79   \n",
       "8784          73        16.40           0.30     1.40            0.00   \n",
       "8785         305        18.50          25.10    13.40            0.00   \n",
       "8786         111        20.54           0.84     2.97            5.41   \n",
       "8787         269         0.00           0.00     0.86           73.14   \n",
       "8788          90        16.10           1.40     1.30            2.00   \n",
       "8789          89        19.80           0.50     1.20            0.00   \n",
       "\n",
       "      Fiber_TD_(g)  Sugar_Tot_(g)       ...        Lycopene_(µg)  \\\n",
       "0              0.0           0.06       ...                  0.0   \n",
       "1              0.0           0.06       ...                  0.0   \n",
       "2              0.0           0.00       ...                  0.0   \n",
       "3              0.0           0.50       ...                  0.0   \n",
       "4              0.0           0.51       ...                  0.0   \n",
       "5              0.0           0.45       ...                  0.0   \n",
       "6              0.0           0.46       ...                  0.0   \n",
       "7              0.0            NaN       ...                  NaN   \n",
       "8              0.0           0.48       ...                  0.0   \n",
       "9              0.0            NaN       ...                  NaN   \n",
       "10             0.0           0.52       ...                  0.0   \n",
       "11             0.0           2.67       ...                  0.0   \n",
       "12             0.2           2.38       ...                  0.0   \n",
       "13             0.0           1.85       ...                  0.0   \n",
       "14             0.0           4.00       ...                  0.0   \n",
       "15             0.0           2.72       ...                  0.0   \n",
       "16             0.0           3.76       ...                  0.0   \n",
       "17             0.0           1.43       ...                  0.0   \n",
       "18             0.0           4.09       ...                  0.0   \n",
       "19             0.0           1.55       ...                  0.0   \n",
       "20             0.0            NaN       ...                  NaN   \n",
       "21             0.0           2.22       ...                  0.0   \n",
       "22             0.0           0.36       ...                  0.0   \n",
       "23             0.0           0.49       ...                  0.0   \n",
       "24             0.0           0.50       ...                  0.0   \n",
       "25             0.0           1.03       ...                  0.0   \n",
       "26             0.0           1.01       ...                  0.0   \n",
       "27             0.0           1.13       ...                  0.0   \n",
       "28             0.0           1.90       ...                  0.0   \n",
       "29             0.0           1.12       ...                  0.0   \n",
       "...            ...            ...       ...                  ...   \n",
       "8760           2.6           1.35       ...                  0.0   \n",
       "8761           1.6          11.36       ...                  0.0   \n",
       "8762           1.0          14.66       ...                  0.0   \n",
       "8763           5.7           0.53       ...                  0.0   \n",
       "8764           4.2          19.79       ...                  0.0   \n",
       "8765          14.2           0.54       ...                  0.0   \n",
       "8766           2.0          14.87       ...                  0.0   \n",
       "8767           0.0           1.33       ...                  0.0   \n",
       "8768           2.1          35.10       ...                  0.0   \n",
       "8769           0.0           1.23       ...                  0.0   \n",
       "8770           0.0           0.30       ...                  0.0   \n",
       "8771           0.0           0.00       ...                  0.0   \n",
       "8772           0.1          76.00       ...                  0.0   \n",
       "8773           0.0           8.21       ...                  0.0   \n",
       "8774          27.8          35.90       ...                  0.0   \n",
       "8775           6.1           0.70       ...                  0.0   \n",
       "8776           0.0          15.30       ...                  0.0   \n",
       "8777           0.8          45.30       ...                  0.0   \n",
       "8778           2.6          37.75       ...                  0.0   \n",
       "8779           0.0          24.53       ...                  0.0   \n",
       "8780          10.1           0.70       ...                  0.0   \n",
       "8781           0.9           2.90       ...                  0.0   \n",
       "8782           0.8           0.90       ...                  0.0   \n",
       "8783           0.6           0.00       ...                  0.0   \n",
       "8784           0.0           0.00       ...                  0.0   \n",
       "8785           0.0           0.00       ...                  0.0   \n",
       "8786           0.0           0.00       ...                  0.0   \n",
       "8787           0.0          73.20       ...                  0.0   \n",
       "8788           0.0           0.00       ...                  0.0   \n",
       "8789           0.0           0.00       ...                  0.0   \n",
       "\n",
       "      Lut+Zea_ (µg)  Vit_E_(mg)  Vit_D_µg  Vit_D_IU  Vit_K_(µg)  FA_Sat_(g)  \\\n",
       "0               0.0        2.32       0.0       0.0         7.0      51.368   \n",
       "1              13.0        1.37       0.0       0.0         4.6      45.390   \n",
       "2               0.0        2.80       0.0       0.0         8.6      61.924   \n",
       "3               0.0        0.25       0.5      21.0         2.4      18.669   \n",
       "4               0.0        0.26       0.5      22.0         2.5      18.764   \n",
       "5               0.0        0.24       0.5      20.0         2.3      17.410   \n",
       "6               0.0        0.21       0.4      18.0         2.0      15.259   \n",
       "7               NaN         NaN       NaN       NaN         NaN      18.584   \n",
       "8               0.0        0.71       0.6      24.0         2.4      18.867   \n",
       "9               NaN         NaN       NaN       NaN         NaN      19.475   \n",
       "10              0.0        0.28       0.6      24.0         2.7      20.218   \n",
       "11              0.0        0.08       0.1       3.0         0.0       1.718   \n",
       "12              0.0        0.04       0.0       0.0         0.4       2.311   \n",
       "13              0.0        0.01       0.0       0.0         0.0       0.169   \n",
       "14              0.0        0.08       0.0       0.0         0.0       1.235   \n",
       "15              0.0        0.01       0.0       0.0         0.1       0.645   \n",
       "16              7.0        0.86       0.0       0.0         2.1      20.213   \n",
       "17              0.0        0.24       0.5      20.0         2.3      17.572   \n",
       "18              0.0        0.18       0.4      16.0         1.8      14.946   \n",
       "19              0.0        0.27       0.6      23.0         2.6      19.196   \n",
       "20              NaN         NaN       NaN       NaN         NaN      19.160   \n",
       "21              0.0        0.24       0.5      20.0         2.3      17.614   \n",
       "22              0.0        0.28       0.6      24.0         2.7      18.913   \n",
       "23              0.0        0.23       0.5      20.0         2.3      16.746   \n",
       "24              0.0        0.26       0.6      22.0         2.5      19.066   \n",
       "25              0.0        0.19       0.4      16.0         2.3      13.152   \n",
       "26              0.0        0.21       0.5      18.0         2.5      15.561   \n",
       "27              0.0        0.14       0.3      12.0         1.6      10.114   \n",
       "28              0.0        0.50       0.4      15.0         1.3      11.295   \n",
       "29              0.0        0.26       0.6      22.0         2.5      19.113   \n",
       "...             ...         ...       ...       ...         ...         ...   \n",
       "8760            1.0        0.13       0.0       0.0         0.3       0.185   \n",
       "8761           20.0        0.25       0.0       0.0         0.5       0.072   \n",
       "8762           10.0        0.02       0.0       0.0         0.1       0.058   \n",
       "8763          507.0        3.53       0.0       0.0         0.7       2.837   \n",
       "8764          445.0        1.22       4.6     183.0         3.0       0.640   \n",
       "8765         1087.0        5.01       0.0       0.0        15.7       1.415   \n",
       "8766          149.0        0.79       0.0       0.0         5.1       0.030   \n",
       "8767            0.0        0.07       0.1       4.0         0.5       3.304   \n",
       "8768           40.0        0.76       0.0       0.0        13.8       1.500   \n",
       "8769            0.0        0.15       0.3      13.0         1.8      10.867   \n",
       "8770            0.0       11.79       0.0       0.0        24.7      10.784   \n",
       "8771            0.0       14.78       0.0       0.0        21.0      14.367   \n",
       "8772            0.0        0.00       0.0       0.0         0.0       0.000   \n",
       "8773            1.0        2.15       0.0       0.0        36.7       7.996   \n",
       "8774         5076.0        5.55       0.0       0.0       584.2       0.555   \n",
       "8775            7.0        0.02       0.0       0.0         0.4       0.984   \n",
       "8776           83.0        0.00       0.0       0.0        16.9       0.000   \n",
       "8777           14.0        0.00       0.0       0.0         0.2       0.009   \n",
       "8778           33.0        0.23       0.0       0.0         3.9       0.000   \n",
       "8779           12.0        0.02       0.0       0.0         0.0       0.003   \n",
       "8780            9.0        0.02       0.0       0.0         0.5       1.578   \n",
       "8781            0.0        0.05       0.0       0.0         1.1       0.018   \n",
       "8782            0.0        0.08       0.0       0.0         1.7       0.099   \n",
       "8783            0.0        0.00       0.0       0.0         0.0       0.272   \n",
       "8784            0.0        1.00       0.2       8.0         0.1       0.076   \n",
       "8785            0.0        2.38      25.2    1006.0         7.8       7.148   \n",
       "8786            0.0        0.00       0.0       2.0         0.0       0.218   \n",
       "8787            0.0        0.00       0.0       0.0         0.0       0.000   \n",
       "8788            0.0        5.00       0.0       0.0         0.1       0.361   \n",
       "8789            0.0        0.50       0.0       0.0         0.1       0.127   \n",
       "\n",
       "      FA_Mono_(g)  FA_Poly_(g)  Cholestrl_(mg)  \n",
       "0          21.021        3.043           215.0  \n",
       "1          19.874        3.331           225.0  \n",
       "2          28.732        3.694           256.0  \n",
       "3           7.778        0.800            75.0  \n",
       "4           8.598        0.784            94.0  \n",
       "5           8.013        0.826           100.0  \n",
       "6           7.023        0.724            72.0  \n",
       "7           8.275        0.830            93.0  \n",
       "8           9.246        1.421            99.0  \n",
       "9           8.671        0.870           103.0  \n",
       "10          9.280        0.953            95.0  \n",
       "11          0.778        0.123            17.0  \n",
       "12          1.036        0.124            13.0  \n",
       "13          0.079        0.003             7.0  \n",
       "14          0.516        0.083            12.0  \n",
       "15          0.291        0.031             4.0  \n",
       "16          8.907        1.483           101.0  \n",
       "17          8.125        0.665            89.0  \n",
       "18          4.623        0.591            89.0  \n",
       "19          8.687        1.654           116.0  \n",
       "20          7.879        0.938            94.0  \n",
       "21          7.747        0.657           114.0  \n",
       "22         10.043        1.733           110.0  \n",
       "23          8.606        0.495            90.0  \n",
       "24          8.751        0.899            89.0  \n",
       "25          6.573        0.765            79.0  \n",
       "26          7.027        0.778            89.0  \n",
       "27          4.510        0.472            64.0  \n",
       "28          5.741        1.019            64.0  \n",
       "29          8.711        0.661            96.0  \n",
       "...           ...          ...             ...  \n",
       "8760        0.252        0.231             0.0  \n",
       "8761        0.028        0.041             0.0  \n",
       "8762        0.018        0.047             0.0  \n",
       "8763        6.341        5.024             0.0  \n",
       "8764        2.831        1.307             0.0  \n",
       "8765        4.085        3.572             0.0  \n",
       "8766        0.025        0.068             0.0  \n",
       "8767        1.351        0.180            35.0  \n",
       "8768        5.000        0.900             0.0  \n",
       "8769        4.844        0.509            54.0  \n",
       "8770       18.026       45.539             0.0  \n",
       "8771       48.033       33.033             0.0  \n",
       "8772        0.000        0.000             0.0  \n",
       "8773        3.108        7.536             6.0  \n",
       "8774        0.405        1.035             0.0  \n",
       "8775        1.154        0.131             0.0  \n",
       "8776        0.000        0.000             0.0  \n",
       "8777        0.001        0.008             0.0  \n",
       "8778        0.000        0.000             0.0  \n",
       "8779        0.001        0.009             0.0  \n",
       "8780        1.150        0.130             0.0  \n",
       "8781        0.032        0.050             0.0  \n",
       "8782        0.116        0.433             0.0  \n",
       "8783        0.156        0.810             0.0  \n",
       "8784        0.053        0.102            50.0  \n",
       "8785        8.320        6.210            95.0  \n",
       "8786        0.082        0.222            41.0  \n",
       "8787        0.000        0.000             0.0  \n",
       "8788        0.259        0.252            50.0  \n",
       "8789        0.088        0.170            50.0  \n",
       "\n",
       "[8790 rows x 48 columns]"
      ]
     },
     "execution_count": 30,
     "metadata": {},
     "output_type": "execute_result"
    }
   ],
   "source": [
    "# Untuk mengimport modul Pandas kita gunakan\n",
    "import pandas\n",
    "\n",
    "# Untuk membuat lebih gampang seperti pertemuan sebelumnya kita gunakan alias 'as'\n",
    "import pandas as pd\n",
    "\n",
    "makanan = pd.read_csv('D:\\MATERI PYTHON\\day 1\\makanan.csv')\n",
    "makanan"
   ]
  },
  {
   "cell_type": "code",
   "execution_count": 14,
   "metadata": {},
   "outputs": [
    {
     "data": {
      "text/html": [
       "<div>\n",
       "<style>\n",
       "    .dataframe thead tr:only-child th {\n",
       "        text-align: right;\n",
       "    }\n",
       "\n",
       "    .dataframe thead th {\n",
       "        text-align: left;\n",
       "    }\n",
       "\n",
       "    .dataframe tbody tr th {\n",
       "        vertical-align: top;\n",
       "    }\n",
       "</style>\n",
       "<table border=\"1\" class=\"dataframe\">\n",
       "  <thead>\n",
       "    <tr style=\"text-align: right;\">\n",
       "      <th></th>\n",
       "      <th>NDB_No</th>\n",
       "      <th>Shrt_Desc</th>\n",
       "      <th>Water_(g)</th>\n",
       "      <th>Energ_Kcal</th>\n",
       "      <th>Protein_(g)</th>\n",
       "      <th>Lipid_Tot_(g)</th>\n",
       "      <th>Ash_(g)</th>\n",
       "      <th>Carbohydrt_(g)</th>\n",
       "      <th>Fiber_TD_(g)</th>\n",
       "      <th>Sugar_Tot_(g)</th>\n",
       "      <th>...</th>\n",
       "      <th>Lycopene_(µg)</th>\n",
       "      <th>Lut+Zea_ (µg)</th>\n",
       "      <th>Vit_E_(mg)</th>\n",
       "      <th>Vit_D_µg</th>\n",
       "      <th>Vit_D_IU</th>\n",
       "      <th>Vit_K_(µg)</th>\n",
       "      <th>FA_Sat_(g)</th>\n",
       "      <th>FA_Mono_(g)</th>\n",
       "      <th>FA_Poly_(g)</th>\n",
       "      <th>Cholestrl_(mg)</th>\n",
       "    </tr>\n",
       "  </thead>\n",
       "  <tbody>\n",
       "    <tr>\n",
       "      <th>0</th>\n",
       "      <td>1001</td>\n",
       "      <td>BUTTER,WITH SALT</td>\n",
       "      <td>15.87</td>\n",
       "      <td>717</td>\n",
       "      <td>0.85</td>\n",
       "      <td>81.11</td>\n",
       "      <td>2.11</td>\n",
       "      <td>0.06</td>\n",
       "      <td>0.0</td>\n",
       "      <td>0.06</td>\n",
       "      <td>...</td>\n",
       "      <td>0.0</td>\n",
       "      <td>0.0</td>\n",
       "      <td>2.32</td>\n",
       "      <td>0.0</td>\n",
       "      <td>0.0</td>\n",
       "      <td>7.0</td>\n",
       "      <td>51.368</td>\n",
       "      <td>21.021</td>\n",
       "      <td>3.043</td>\n",
       "      <td>215.0</td>\n",
       "    </tr>\n",
       "    <tr>\n",
       "      <th>1</th>\n",
       "      <td>1002</td>\n",
       "      <td>BUTTER,WHIPPED,W/ SALT</td>\n",
       "      <td>16.72</td>\n",
       "      <td>718</td>\n",
       "      <td>0.49</td>\n",
       "      <td>78.30</td>\n",
       "      <td>1.62</td>\n",
       "      <td>2.87</td>\n",
       "      <td>0.0</td>\n",
       "      <td>0.06</td>\n",
       "      <td>...</td>\n",
       "      <td>0.0</td>\n",
       "      <td>13.0</td>\n",
       "      <td>1.37</td>\n",
       "      <td>0.0</td>\n",
       "      <td>0.0</td>\n",
       "      <td>4.6</td>\n",
       "      <td>45.390</td>\n",
       "      <td>19.874</td>\n",
       "      <td>3.331</td>\n",
       "      <td>225.0</td>\n",
       "    </tr>\n",
       "    <tr>\n",
       "      <th>2</th>\n",
       "      <td>1003</td>\n",
       "      <td>BUTTER OIL,ANHYDROUS</td>\n",
       "      <td>0.24</td>\n",
       "      <td>876</td>\n",
       "      <td>0.28</td>\n",
       "      <td>99.48</td>\n",
       "      <td>0.00</td>\n",
       "      <td>0.00</td>\n",
       "      <td>0.0</td>\n",
       "      <td>0.00</td>\n",
       "      <td>...</td>\n",
       "      <td>0.0</td>\n",
       "      <td>0.0</td>\n",
       "      <td>2.80</td>\n",
       "      <td>0.0</td>\n",
       "      <td>0.0</td>\n",
       "      <td>8.6</td>\n",
       "      <td>61.924</td>\n",
       "      <td>28.732</td>\n",
       "      <td>3.694</td>\n",
       "      <td>256.0</td>\n",
       "    </tr>\n",
       "    <tr>\n",
       "      <th>3</th>\n",
       "      <td>1004</td>\n",
       "      <td>CHEESE,BLUE</td>\n",
       "      <td>42.41</td>\n",
       "      <td>353</td>\n",
       "      <td>21.40</td>\n",
       "      <td>28.74</td>\n",
       "      <td>5.11</td>\n",
       "      <td>2.34</td>\n",
       "      <td>0.0</td>\n",
       "      <td>0.50</td>\n",
       "      <td>...</td>\n",
       "      <td>0.0</td>\n",
       "      <td>0.0</td>\n",
       "      <td>0.25</td>\n",
       "      <td>0.5</td>\n",
       "      <td>21.0</td>\n",
       "      <td>2.4</td>\n",
       "      <td>18.669</td>\n",
       "      <td>7.778</td>\n",
       "      <td>0.800</td>\n",
       "      <td>75.0</td>\n",
       "    </tr>\n",
       "    <tr>\n",
       "      <th>4</th>\n",
       "      <td>1005</td>\n",
       "      <td>CHEESE,BRICK</td>\n",
       "      <td>41.11</td>\n",
       "      <td>371</td>\n",
       "      <td>23.24</td>\n",
       "      <td>29.68</td>\n",
       "      <td>3.18</td>\n",
       "      <td>2.79</td>\n",
       "      <td>0.0</td>\n",
       "      <td>0.51</td>\n",
       "      <td>...</td>\n",
       "      <td>0.0</td>\n",
       "      <td>0.0</td>\n",
       "      <td>0.26</td>\n",
       "      <td>0.5</td>\n",
       "      <td>22.0</td>\n",
       "      <td>2.5</td>\n",
       "      <td>18.764</td>\n",
       "      <td>8.598</td>\n",
       "      <td>0.784</td>\n",
       "      <td>94.0</td>\n",
       "    </tr>\n",
       "  </tbody>\n",
       "</table>\n",
       "<p>5 rows × 48 columns</p>\n",
       "</div>"
      ],
      "text/plain": [
       "   NDB_No               Shrt_Desc  Water_(g)  Energ_Kcal  Protein_(g)  \\\n",
       "0    1001        BUTTER,WITH SALT      15.87         717         0.85   \n",
       "1    1002  BUTTER,WHIPPED,W/ SALT      16.72         718         0.49   \n",
       "2    1003    BUTTER OIL,ANHYDROUS       0.24         876         0.28   \n",
       "3    1004             CHEESE,BLUE      42.41         353        21.40   \n",
       "4    1005            CHEESE,BRICK      41.11         371        23.24   \n",
       "\n",
       "   Lipid_Tot_(g)  Ash_(g)  Carbohydrt_(g)  Fiber_TD_(g)  Sugar_Tot_(g)  \\\n",
       "0          81.11     2.11            0.06           0.0           0.06   \n",
       "1          78.30     1.62            2.87           0.0           0.06   \n",
       "2          99.48     0.00            0.00           0.0           0.00   \n",
       "3          28.74     5.11            2.34           0.0           0.50   \n",
       "4          29.68     3.18            2.79           0.0           0.51   \n",
       "\n",
       "        ...        Lycopene_(µg)  Lut+Zea_ (µg)  Vit_E_(mg)  Vit_D_µg  \\\n",
       "0       ...                  0.0            0.0        2.32       0.0   \n",
       "1       ...                  0.0           13.0        1.37       0.0   \n",
       "2       ...                  0.0            0.0        2.80       0.0   \n",
       "3       ...                  0.0            0.0        0.25       0.5   \n",
       "4       ...                  0.0            0.0        0.26       0.5   \n",
       "\n",
       "   Vit_D_IU  Vit_K_(µg)  FA_Sat_(g)  FA_Mono_(g)  FA_Poly_(g)  Cholestrl_(mg)  \n",
       "0       0.0         7.0      51.368       21.021        3.043           215.0  \n",
       "1       0.0         4.6      45.390       19.874        3.331           225.0  \n",
       "2       0.0         8.6      61.924       28.732        3.694           256.0  \n",
       "3      21.0         2.4      18.669        7.778        0.800            75.0  \n",
       "4      22.0         2.5      18.764        8.598        0.784            94.0  \n",
       "\n",
       "[5 rows x 48 columns]"
      ]
     },
     "execution_count": 14,
     "metadata": {},
     "output_type": "execute_result"
    }
   ],
   "source": [
    "makanan.head()"
   ]
  },
  {
   "cell_type": "code",
   "execution_count": 15,
   "metadata": {},
   "outputs": [
    {
     "data": {
      "text/html": [
       "<div>\n",
       "<style>\n",
       "    .dataframe thead tr:only-child th {\n",
       "        text-align: right;\n",
       "    }\n",
       "\n",
       "    .dataframe thead th {\n",
       "        text-align: left;\n",
       "    }\n",
       "\n",
       "    .dataframe tbody tr th {\n",
       "        vertical-align: top;\n",
       "    }\n",
       "</style>\n",
       "<table border=\"1\" class=\"dataframe\">\n",
       "  <thead>\n",
       "    <tr style=\"text-align: right;\">\n",
       "      <th></th>\n",
       "      <th>NDB_No</th>\n",
       "      <th>Shrt_Desc</th>\n",
       "      <th>Water_(g)</th>\n",
       "      <th>Energ_Kcal</th>\n",
       "      <th>Protein_(g)</th>\n",
       "      <th>Lipid_Tot_(g)</th>\n",
       "      <th>Ash_(g)</th>\n",
       "      <th>Carbohydrt_(g)</th>\n",
       "      <th>Fiber_TD_(g)</th>\n",
       "      <th>Sugar_Tot_(g)</th>\n",
       "      <th>...</th>\n",
       "      <th>Lycopene_(µg)</th>\n",
       "      <th>Lut+Zea_ (µg)</th>\n",
       "      <th>Vit_E_(mg)</th>\n",
       "      <th>Vit_D_µg</th>\n",
       "      <th>Vit_D_IU</th>\n",
       "      <th>Vit_K_(µg)</th>\n",
       "      <th>FA_Sat_(g)</th>\n",
       "      <th>FA_Mono_(g)</th>\n",
       "      <th>FA_Poly_(g)</th>\n",
       "      <th>Cholestrl_(mg)</th>\n",
       "    </tr>\n",
       "  </thead>\n",
       "  <tbody>\n",
       "    <tr>\n",
       "      <th>0</th>\n",
       "      <td>1001</td>\n",
       "      <td>BUTTER,WITH SALT</td>\n",
       "      <td>15.87</td>\n",
       "      <td>717</td>\n",
       "      <td>0.85</td>\n",
       "      <td>81.11</td>\n",
       "      <td>2.11</td>\n",
       "      <td>0.06</td>\n",
       "      <td>0.0</td>\n",
       "      <td>0.06</td>\n",
       "      <td>...</td>\n",
       "      <td>0.0</td>\n",
       "      <td>0.0</td>\n",
       "      <td>2.32</td>\n",
       "      <td>0.0</td>\n",
       "      <td>0.0</td>\n",
       "      <td>7.0</td>\n",
       "      <td>51.368</td>\n",
       "      <td>21.021</td>\n",
       "      <td>3.043</td>\n",
       "      <td>215.0</td>\n",
       "    </tr>\n",
       "    <tr>\n",
       "      <th>1</th>\n",
       "      <td>1002</td>\n",
       "      <td>BUTTER,WHIPPED,W/ SALT</td>\n",
       "      <td>16.72</td>\n",
       "      <td>718</td>\n",
       "      <td>0.49</td>\n",
       "      <td>78.30</td>\n",
       "      <td>1.62</td>\n",
       "      <td>2.87</td>\n",
       "      <td>0.0</td>\n",
       "      <td>0.06</td>\n",
       "      <td>...</td>\n",
       "      <td>0.0</td>\n",
       "      <td>13.0</td>\n",
       "      <td>1.37</td>\n",
       "      <td>0.0</td>\n",
       "      <td>0.0</td>\n",
       "      <td>4.6</td>\n",
       "      <td>45.390</td>\n",
       "      <td>19.874</td>\n",
       "      <td>3.331</td>\n",
       "      <td>225.0</td>\n",
       "    </tr>\n",
       "    <tr>\n",
       "      <th>2</th>\n",
       "      <td>1003</td>\n",
       "      <td>BUTTER OIL,ANHYDROUS</td>\n",
       "      <td>0.24</td>\n",
       "      <td>876</td>\n",
       "      <td>0.28</td>\n",
       "      <td>99.48</td>\n",
       "      <td>0.00</td>\n",
       "      <td>0.00</td>\n",
       "      <td>0.0</td>\n",
       "      <td>0.00</td>\n",
       "      <td>...</td>\n",
       "      <td>0.0</td>\n",
       "      <td>0.0</td>\n",
       "      <td>2.80</td>\n",
       "      <td>0.0</td>\n",
       "      <td>0.0</td>\n",
       "      <td>8.6</td>\n",
       "      <td>61.924</td>\n",
       "      <td>28.732</td>\n",
       "      <td>3.694</td>\n",
       "      <td>256.0</td>\n",
       "    </tr>\n",
       "  </tbody>\n",
       "</table>\n",
       "<p>3 rows × 48 columns</p>\n",
       "</div>"
      ],
      "text/plain": [
       "   NDB_No               Shrt_Desc  Water_(g)  Energ_Kcal  Protein_(g)  \\\n",
       "0    1001        BUTTER,WITH SALT      15.87         717         0.85   \n",
       "1    1002  BUTTER,WHIPPED,W/ SALT      16.72         718         0.49   \n",
       "2    1003    BUTTER OIL,ANHYDROUS       0.24         876         0.28   \n",
       "\n",
       "   Lipid_Tot_(g)  Ash_(g)  Carbohydrt_(g)  Fiber_TD_(g)  Sugar_Tot_(g)  \\\n",
       "0          81.11     2.11            0.06           0.0           0.06   \n",
       "1          78.30     1.62            2.87           0.0           0.06   \n",
       "2          99.48     0.00            0.00           0.0           0.00   \n",
       "\n",
       "        ...        Lycopene_(µg)  Lut+Zea_ (µg)  Vit_E_(mg)  Vit_D_µg  \\\n",
       "0       ...                  0.0            0.0        2.32       0.0   \n",
       "1       ...                  0.0           13.0        1.37       0.0   \n",
       "2       ...                  0.0            0.0        2.80       0.0   \n",
       "\n",
       "   Vit_D_IU  Vit_K_(µg)  FA_Sat_(g)  FA_Mono_(g)  FA_Poly_(g)  Cholestrl_(mg)  \n",
       "0       0.0         7.0      51.368       21.021        3.043           215.0  \n",
       "1       0.0         4.6      45.390       19.874        3.331           225.0  \n",
       "2       0.0         8.6      61.924       28.732        3.694           256.0  \n",
       "\n",
       "[3 rows x 48 columns]"
      ]
     },
     "execution_count": 15,
     "metadata": {},
     "output_type": "execute_result"
    }
   ],
   "source": [
    "makanan.head(3)"
   ]
  },
  {
   "cell_type": "code",
   "execution_count": 17,
   "metadata": {},
   "outputs": [
    {
     "data": {
      "text/plain": [
       "Index(['NDB_No', 'Shrt_Desc', 'Water_(g)', 'Energ_Kcal', 'Protein_(g)',\n",
       "       'Lipid_Tot_(g)', 'Ash_(g)', 'Carbohydrt_(g)', 'Fiber_TD_(g)',\n",
       "       'Sugar_Tot_(g)', 'Calcium_(mg)', 'Iron_(mg)', 'Magnesium_(mg)',\n",
       "       'Phosphorus_(mg)', 'Potassium_(mg)', 'Sodium_(mg)', 'Zinc_(mg)',\n",
       "       'Copper_(mg)', 'Manganese_(mg)', 'Selenium_(µg)', 'Vit_C_(mg)',\n",
       "       'Thiamin_(mg)', 'Riboflavin_(mg)', 'Niacin_(mg)', 'Panto_Acid_mg)',\n",
       "       'Vit_B6_(mg)', 'Folate_Tot_(µg)', 'Folic_Acid_(µg)', 'Food_Folate_(µg)',\n",
       "       'Folate_DFE_(µg)', 'Choline_Tot_ (mg)', 'Vit_B12_(µg)', 'Vit_A_IU',\n",
       "       'Vit_A_RAE', 'Retinol_(µg)', 'Alpha_Carot_(µg)', 'Beta_Carot_(µg)',\n",
       "       'Beta_Crypt_(µg)', 'Lycopene_(µg)', 'Lut+Zea_ (µg)', 'Vit_E_(mg)',\n",
       "       'Vit_D_µg', 'Vit_D_IU', 'Vit_K_(µg)', 'FA_Sat_(g)', 'FA_Mono_(g)',\n",
       "       'FA_Poly_(g)', 'Cholestrl_(mg)'],\n",
       "      dtype='object')"
      ]
     },
     "execution_count": 17,
     "metadata": {},
     "output_type": "execute_result"
    }
   ],
   "source": [
    "# Kamu bisa menampilkan kolom apa saja dalam DataFrame\n",
    "kolom_makanan = makanan.columns\n",
    "kolom_makanan"
   ]
  },
  {
   "cell_type": "code",
   "execution_count": 51,
   "metadata": {},
   "outputs": [
    {
     "data": {
      "text/plain": [
       "0        1001\n",
       "1        1002\n",
       "2        1003\n",
       "3        1004\n",
       "4        1005\n",
       "5        1006\n",
       "6        1007\n",
       "7        1008\n",
       "8        1009\n",
       "9        1010\n",
       "10       1011\n",
       "11       1012\n",
       "12       1013\n",
       "13       1014\n",
       "14       1015\n",
       "15       1016\n",
       "16       1017\n",
       "17       1018\n",
       "18       1019\n",
       "19       1020\n",
       "20       1021\n",
       "21       1022\n",
       "22       1023\n",
       "23       1024\n",
       "24       1025\n",
       "25       1026\n",
       "26       1027\n",
       "27       1028\n",
       "28       1029\n",
       "29       1030\n",
       "        ...  \n",
       "8760    43544\n",
       "8761    43546\n",
       "8762    43550\n",
       "8763    43566\n",
       "8764    43570\n",
       "8765    43572\n",
       "8766    43585\n",
       "8767    43589\n",
       "8768    43595\n",
       "8769    43597\n",
       "8770    43598\n",
       "8771    44005\n",
       "8772    44018\n",
       "8773    44048\n",
       "8774    44055\n",
       "8775    44061\n",
       "8776    44074\n",
       "8777    44110\n",
       "8778    44158\n",
       "8779    44203\n",
       "8780    44258\n",
       "8781    44259\n",
       "8782    44260\n",
       "8783    48052\n",
       "8784    80200\n",
       "8785    83110\n",
       "8786    90240\n",
       "8787    90480\n",
       "8788    90560\n",
       "8789    93600\n",
       "Name: NDB_No, Length: 8790, dtype: int64"
      ]
     },
     "execution_count": 51,
     "metadata": {},
     "output_type": "execute_result"
    }
   ],
   "source": [
    "kolom_nbd = makanan['NDB_No']\n",
    "kolom_nbd"
   ]
  },
  {
   "cell_type": "code",
   "execution_count": 33,
   "metadata": {
    "scrolled": true
   },
   "outputs": [
    {
     "data": {
      "text/html": [
       "<div>\n",
       "<style>\n",
       "    .dataframe thead tr:only-child th {\n",
       "        text-align: right;\n",
       "    }\n",
       "\n",
       "    .dataframe thead th {\n",
       "        text-align: left;\n",
       "    }\n",
       "\n",
       "    .dataframe tbody tr th {\n",
       "        vertical-align: top;\n",
       "    }\n",
       "</style>\n",
       "<table border=\"1\" class=\"dataframe\">\n",
       "  <thead>\n",
       "    <tr style=\"text-align: right;\">\n",
       "      <th></th>\n",
       "      <th>Zinc_(mg)</th>\n",
       "      <th>Copper_(mg)</th>\n",
       "    </tr>\n",
       "  </thead>\n",
       "  <tbody>\n",
       "    <tr>\n",
       "      <th>0</th>\n",
       "      <td>0.09</td>\n",
       "      <td>0.000</td>\n",
       "    </tr>\n",
       "    <tr>\n",
       "      <th>1</th>\n",
       "      <td>0.05</td>\n",
       "      <td>0.010</td>\n",
       "    </tr>\n",
       "    <tr>\n",
       "      <th>2</th>\n",
       "      <td>0.01</td>\n",
       "      <td>0.001</td>\n",
       "    </tr>\n",
       "    <tr>\n",
       "      <th>3</th>\n",
       "      <td>2.66</td>\n",
       "      <td>0.040</td>\n",
       "    </tr>\n",
       "    <tr>\n",
       "      <th>4</th>\n",
       "      <td>2.60</td>\n",
       "      <td>0.024</td>\n",
       "    </tr>\n",
       "    <tr>\n",
       "      <th>5</th>\n",
       "      <td>2.38</td>\n",
       "      <td>0.019</td>\n",
       "    </tr>\n",
       "    <tr>\n",
       "      <th>6</th>\n",
       "      <td>2.38</td>\n",
       "      <td>0.021</td>\n",
       "    </tr>\n",
       "    <tr>\n",
       "      <th>7</th>\n",
       "      <td>2.94</td>\n",
       "      <td>0.024</td>\n",
       "    </tr>\n",
       "    <tr>\n",
       "      <th>8</th>\n",
       "      <td>3.64</td>\n",
       "      <td>0.030</td>\n",
       "    </tr>\n",
       "    <tr>\n",
       "      <th>9</th>\n",
       "      <td>2.79</td>\n",
       "      <td>0.042</td>\n",
       "    </tr>\n",
       "    <tr>\n",
       "      <th>10</th>\n",
       "      <td>3.07</td>\n",
       "      <td>0.042</td>\n",
       "    </tr>\n",
       "    <tr>\n",
       "      <th>11</th>\n",
       "      <td>0.40</td>\n",
       "      <td>0.029</td>\n",
       "    </tr>\n",
       "    <tr>\n",
       "      <th>12</th>\n",
       "      <td>0.33</td>\n",
       "      <td>0.040</td>\n",
       "    </tr>\n",
       "    <tr>\n",
       "      <th>13</th>\n",
       "      <td>0.47</td>\n",
       "      <td>0.030</td>\n",
       "    </tr>\n",
       "    <tr>\n",
       "      <th>14</th>\n",
       "      <td>0.51</td>\n",
       "      <td>0.033</td>\n",
       "    </tr>\n",
       "    <tr>\n",
       "      <th>15</th>\n",
       "      <td>0.38</td>\n",
       "      <td>0.028</td>\n",
       "    </tr>\n",
       "    <tr>\n",
       "      <th>16</th>\n",
       "      <td>0.50</td>\n",
       "      <td>0.018</td>\n",
       "    </tr>\n",
       "    <tr>\n",
       "      <th>17</th>\n",
       "      <td>3.75</td>\n",
       "      <td>0.036</td>\n",
       "    </tr>\n",
       "    <tr>\n",
       "      <th>18</th>\n",
       "      <td>2.88</td>\n",
       "      <td>0.032</td>\n",
       "    </tr>\n",
       "    <tr>\n",
       "      <th>19</th>\n",
       "      <td>3.50</td>\n",
       "      <td>0.025</td>\n",
       "    </tr>\n",
       "    <tr>\n",
       "      <th>20</th>\n",
       "      <td>1.14</td>\n",
       "      <td>0.080</td>\n",
       "    </tr>\n",
       "    <tr>\n",
       "      <th>21</th>\n",
       "      <td>3.90</td>\n",
       "      <td>0.036</td>\n",
       "    </tr>\n",
       "    <tr>\n",
       "      <th>22</th>\n",
       "      <td>3.90</td>\n",
       "      <td>0.032</td>\n",
       "    </tr>\n",
       "    <tr>\n",
       "      <th>23</th>\n",
       "      <td>2.10</td>\n",
       "      <td>0.021</td>\n",
       "    </tr>\n",
       "    <tr>\n",
       "      <th>24</th>\n",
       "      <td>3.00</td>\n",
       "      <td>0.032</td>\n",
       "    </tr>\n",
       "    <tr>\n",
       "      <th>25</th>\n",
       "      <td>2.92</td>\n",
       "      <td>0.011</td>\n",
       "    </tr>\n",
       "    <tr>\n",
       "      <th>26</th>\n",
       "      <td>2.46</td>\n",
       "      <td>0.022</td>\n",
       "    </tr>\n",
       "    <tr>\n",
       "      <th>27</th>\n",
       "      <td>2.76</td>\n",
       "      <td>0.025</td>\n",
       "    </tr>\n",
       "    <tr>\n",
       "      <th>28</th>\n",
       "      <td>3.62</td>\n",
       "      <td>0.033</td>\n",
       "    </tr>\n",
       "    <tr>\n",
       "      <th>29</th>\n",
       "      <td>2.81</td>\n",
       "      <td>0.031</td>\n",
       "    </tr>\n",
       "    <tr>\n",
       "      <th>...</th>\n",
       "      <td>...</td>\n",
       "      <td>...</td>\n",
       "    </tr>\n",
       "    <tr>\n",
       "      <th>8760</th>\n",
       "      <td>3.30</td>\n",
       "      <td>0.377</td>\n",
       "    </tr>\n",
       "    <tr>\n",
       "      <th>8761</th>\n",
       "      <td>0.05</td>\n",
       "      <td>0.040</td>\n",
       "    </tr>\n",
       "    <tr>\n",
       "      <th>8762</th>\n",
       "      <td>0.05</td>\n",
       "      <td>0.030</td>\n",
       "    </tr>\n",
       "    <tr>\n",
       "      <th>8763</th>\n",
       "      <td>1.15</td>\n",
       "      <td>0.116</td>\n",
       "    </tr>\n",
       "    <tr>\n",
       "      <th>8764</th>\n",
       "      <td>5.03</td>\n",
       "      <td>0.590</td>\n",
       "    </tr>\n",
       "    <tr>\n",
       "      <th>8765</th>\n",
       "      <td>3.83</td>\n",
       "      <td>0.545</td>\n",
       "    </tr>\n",
       "    <tr>\n",
       "      <th>8766</th>\n",
       "      <td>0.08</td>\n",
       "      <td>0.035</td>\n",
       "    </tr>\n",
       "    <tr>\n",
       "      <th>8767</th>\n",
       "      <td>3.90</td>\n",
       "      <td>0.027</td>\n",
       "    </tr>\n",
       "    <tr>\n",
       "      <th>8768</th>\n",
       "      <td>4.10</td>\n",
       "      <td>0.100</td>\n",
       "    </tr>\n",
       "    <tr>\n",
       "      <th>8769</th>\n",
       "      <td>3.13</td>\n",
       "      <td>0.027</td>\n",
       "    </tr>\n",
       "    <tr>\n",
       "      <th>8770</th>\n",
       "      <td>0.13</td>\n",
       "      <td>0.000</td>\n",
       "    </tr>\n",
       "    <tr>\n",
       "      <th>8771</th>\n",
       "      <td>0.02</td>\n",
       "      <td>0.000</td>\n",
       "    </tr>\n",
       "    <tr>\n",
       "      <th>8772</th>\n",
       "      <td>0.09</td>\n",
       "      <td>0.037</td>\n",
       "    </tr>\n",
       "    <tr>\n",
       "      <th>8773</th>\n",
       "      <td>0.21</td>\n",
       "      <td>0.026</td>\n",
       "    </tr>\n",
       "    <tr>\n",
       "      <th>8774</th>\n",
       "      <td>2.77</td>\n",
       "      <td>0.571</td>\n",
       "    </tr>\n",
       "    <tr>\n",
       "      <th>8775</th>\n",
       "      <td>0.41</td>\n",
       "      <td>0.838</td>\n",
       "    </tr>\n",
       "    <tr>\n",
       "      <th>8776</th>\n",
       "      <td>0.05</td>\n",
       "      <td>0.028</td>\n",
       "    </tr>\n",
       "    <tr>\n",
       "      <th>8777</th>\n",
       "      <td>0.03</td>\n",
       "      <td>0.023</td>\n",
       "    </tr>\n",
       "    <tr>\n",
       "      <th>8778</th>\n",
       "      <td>0.10</td>\n",
       "      <td>0.112</td>\n",
       "    </tr>\n",
       "    <tr>\n",
       "      <th>8779</th>\n",
       "      <td>0.02</td>\n",
       "      <td>0.020</td>\n",
       "    </tr>\n",
       "    <tr>\n",
       "      <th>8780</th>\n",
       "      <td>1.49</td>\n",
       "      <td>0.854</td>\n",
       "    </tr>\n",
       "    <tr>\n",
       "      <th>8781</th>\n",
       "      <td>0.19</td>\n",
       "      <td>0.040</td>\n",
       "    </tr>\n",
       "    <tr>\n",
       "      <th>8782</th>\n",
       "      <td>0.10</td>\n",
       "      <td>0.038</td>\n",
       "    </tr>\n",
       "    <tr>\n",
       "      <th>8783</th>\n",
       "      <td>0.85</td>\n",
       "      <td>0.182</td>\n",
       "    </tr>\n",
       "    <tr>\n",
       "      <th>8784</th>\n",
       "      <td>1.00</td>\n",
       "      <td>0.250</td>\n",
       "    </tr>\n",
       "    <tr>\n",
       "      <th>8785</th>\n",
       "      <td>1.10</td>\n",
       "      <td>0.100</td>\n",
       "    </tr>\n",
       "    <tr>\n",
       "      <th>8786</th>\n",
       "      <td>1.55</td>\n",
       "      <td>0.033</td>\n",
       "    </tr>\n",
       "    <tr>\n",
       "      <th>8787</th>\n",
       "      <td>0.19</td>\n",
       "      <td>0.020</td>\n",
       "    </tr>\n",
       "    <tr>\n",
       "      <th>8788</th>\n",
       "      <td>1.00</td>\n",
       "      <td>0.400</td>\n",
       "    </tr>\n",
       "    <tr>\n",
       "      <th>8789</th>\n",
       "      <td>1.00</td>\n",
       "      <td>0.250</td>\n",
       "    </tr>\n",
       "  </tbody>\n",
       "</table>\n",
       "<p>8790 rows × 2 columns</p>\n",
       "</div>"
      ],
      "text/plain": [
       "      Zinc_(mg)  Copper_(mg)\n",
       "0          0.09        0.000\n",
       "1          0.05        0.010\n",
       "2          0.01        0.001\n",
       "3          2.66        0.040\n",
       "4          2.60        0.024\n",
       "5          2.38        0.019\n",
       "6          2.38        0.021\n",
       "7          2.94        0.024\n",
       "8          3.64        0.030\n",
       "9          2.79        0.042\n",
       "10         3.07        0.042\n",
       "11         0.40        0.029\n",
       "12         0.33        0.040\n",
       "13         0.47        0.030\n",
       "14         0.51        0.033\n",
       "15         0.38        0.028\n",
       "16         0.50        0.018\n",
       "17         3.75        0.036\n",
       "18         2.88        0.032\n",
       "19         3.50        0.025\n",
       "20         1.14        0.080\n",
       "21         3.90        0.036\n",
       "22         3.90        0.032\n",
       "23         2.10        0.021\n",
       "24         3.00        0.032\n",
       "25         2.92        0.011\n",
       "26         2.46        0.022\n",
       "27         2.76        0.025\n",
       "28         3.62        0.033\n",
       "29         2.81        0.031\n",
       "...         ...          ...\n",
       "8760       3.30        0.377\n",
       "8761       0.05        0.040\n",
       "8762       0.05        0.030\n",
       "8763       1.15        0.116\n",
       "8764       5.03        0.590\n",
       "8765       3.83        0.545\n",
       "8766       0.08        0.035\n",
       "8767       3.90        0.027\n",
       "8768       4.10        0.100\n",
       "8769       3.13        0.027\n",
       "8770       0.13        0.000\n",
       "8771       0.02        0.000\n",
       "8772       0.09        0.037\n",
       "8773       0.21        0.026\n",
       "8774       2.77        0.571\n",
       "8775       0.41        0.838\n",
       "8776       0.05        0.028\n",
       "8777       0.03        0.023\n",
       "8778       0.10        0.112\n",
       "8779       0.02        0.020\n",
       "8780       1.49        0.854\n",
       "8781       0.19        0.040\n",
       "8782       0.10        0.038\n",
       "8783       0.85        0.182\n",
       "8784       1.00        0.250\n",
       "8785       1.10        0.100\n",
       "8786       1.55        0.033\n",
       "8787       0.19        0.020\n",
       "8788       1.00        0.400\n",
       "8789       1.00        0.250\n",
       "\n",
       "[8790 rows x 2 columns]"
      ]
     },
     "execution_count": 33,
     "metadata": {},
     "output_type": "execute_result"
    }
   ],
   "source": [
    "kalsium_perunggu = makanan[[\"Zinc_(mg)\", \"Copper_(mg)\"]]\n",
    "kalsium_perunggu"
   ]
  },
  {
   "cell_type": "code",
   "execution_count": 18,
   "metadata": {},
   "outputs": [
    {
     "data": {
      "text/plain": [
       "(8790, 48)"
      ]
     },
     "execution_count": 18,
     "metadata": {},
     "output_type": "execute_result"
    }
   ],
   "source": [
    "# Kamu bisa menampilkan bentuk dari sebuah data dalam DataFrame\n",
    "bentuk_data_makanan = makanan.shape\n",
    "bentuk_data_makanan"
   ]
  },
  {
   "cell_type": "code",
   "execution_count": 20,
   "metadata": {},
   "outputs": [
    {
     "data": {
      "text/plain": [
       "NDB_No                           1001\n",
       "Shrt_Desc            BUTTER,WITH SALT\n",
       "Water_(g)                       15.87\n",
       "Energ_Kcal                        717\n",
       "Protein_(g)                      0.85\n",
       "Lipid_Tot_(g)                   81.11\n",
       "Ash_(g)                          2.11\n",
       "Carbohydrt_(g)                   0.06\n",
       "Fiber_TD_(g)                        0\n",
       "Sugar_Tot_(g)                    0.06\n",
       "Calcium_(mg)                       24\n",
       "Iron_(mg)                        0.02\n",
       "Magnesium_(mg)                      2\n",
       "Phosphorus_(mg)                    24\n",
       "Potassium_(mg)                     24\n",
       "Sodium_(mg)                       643\n",
       "Zinc_(mg)                        0.09\n",
       "Copper_(mg)                         0\n",
       "Manganese_(mg)                      0\n",
       "Selenium_(µg)                       1\n",
       "Vit_C_(mg)                          0\n",
       "Thiamin_(mg)                    0.005\n",
       "Riboflavin_(mg)                 0.034\n",
       "Niacin_(mg)                     0.042\n",
       "Panto_Acid_mg)                   0.11\n",
       "Vit_B6_(mg)                     0.003\n",
       "Folate_Tot_(µg)                     3\n",
       "Folic_Acid_(µg)                     0\n",
       "Food_Folate_(µg)                    3\n",
       "Folate_DFE_(µg)                     3\n",
       "Choline_Tot_ (mg)                18.8\n",
       "Vit_B12_(µg)                     0.17\n",
       "Vit_A_IU                         2499\n",
       "Vit_A_RAE                         684\n",
       "Retinol_(µg)                      671\n",
       "Alpha_Carot_(µg)                    0\n",
       "Beta_Carot_(µg)                   158\n",
       "Beta_Crypt_(µg)                     0\n",
       "Lycopene_(µg)                       0\n",
       "Lut+Zea_ (µg)                       0\n",
       "Vit_E_(mg)                       2.32\n",
       "Vit_D_µg                            0\n",
       "Vit_D_IU                            0\n",
       "Vit_K_(µg)                          7\n",
       "FA_Sat_(g)                     51.368\n",
       "FA_Mono_(g)                    21.021\n",
       "FA_Poly_(g)                     3.043\n",
       "Cholestrl_(mg)                    215\n",
       "Name: 0, dtype: object"
      ]
     },
     "execution_count": 20,
     "metadata": {},
     "output_type": "execute_result"
    }
   ],
   "source": [
    "# Kita dapat mengambil sebuah baris pada DataFrame\n",
    "# Baris ini merupakan bentuk struktur data dari Pandas yang bernama Series\n",
    "\n",
    "makanan.loc[0]"
   ]
  },
  {
   "cell_type": "code",
   "execution_count": 23,
   "metadata": {},
   "outputs": [
    {
     "data": {
      "text/plain": [
       "NDB_No                 int64\n",
       "Shrt_Desc             object\n",
       "Water_(g)            float64\n",
       "Energ_Kcal             int64\n",
       "Protein_(g)          float64\n",
       "Lipid_Tot_(g)        float64\n",
       "Ash_(g)              float64\n",
       "Carbohydrt_(g)       float64\n",
       "Fiber_TD_(g)         float64\n",
       "Sugar_Tot_(g)        float64\n",
       "Calcium_(mg)         float64\n",
       "Iron_(mg)            float64\n",
       "Magnesium_(mg)       float64\n",
       "Phosphorus_(mg)      float64\n",
       "Potassium_(mg)       float64\n",
       "Sodium_(mg)          float64\n",
       "Zinc_(mg)            float64\n",
       "Copper_(mg)          float64\n",
       "Manganese_(mg)       float64\n",
       "Selenium_(µg)        float64\n",
       "Vit_C_(mg)           float64\n",
       "Thiamin_(mg)         float64\n",
       "Riboflavin_(mg)      float64\n",
       "Niacin_(mg)          float64\n",
       "Panto_Acid_mg)       float64\n",
       "Vit_B6_(mg)          float64\n",
       "Folate_Tot_(µg)      float64\n",
       "Folic_Acid_(µg)      float64\n",
       "Food_Folate_(µg)     float64\n",
       "Folate_DFE_(µg)      float64\n",
       "Choline_Tot_ (mg)    float64\n",
       "Vit_B12_(µg)         float64\n",
       "Vit_A_IU             float64\n",
       "Vit_A_RAE            float64\n",
       "Retinol_(µg)         float64\n",
       "Alpha_Carot_(µg)     float64\n",
       "Beta_Carot_(µg)      float64\n",
       "Beta_Crypt_(µg)      float64\n",
       "Lycopene_(µg)        float64\n",
       "Lut+Zea_ (µg)        float64\n",
       "Vit_E_(mg)           float64\n",
       "Vit_D_µg             float64\n",
       "Vit_D_IU             float64\n",
       "Vit_K_(µg)           float64\n",
       "FA_Sat_(g)           float64\n",
       "FA_Mono_(g)          float64\n",
       "FA_Poly_(g)          float64\n",
       "Cholestrl_(mg)       float64\n",
       "dtype: object"
      ]
     },
     "execution_count": 23,
     "metadata": {},
     "output_type": "execute_result"
    }
   ],
   "source": [
    "# Kamu bisa melihat semua tipe data pada DataFrame\n",
    "makanan.dtypes"
   ]
  },
  {
   "cell_type": "markdown",
   "metadata": {},
   "source": [
    "# Descriptive Statistics"
   ]
  },
  {
   "cell_type": "markdown",
   "metadata": {},
   "source": [
    "## data frame"
   ]
  },
  {
   "cell_type": "code",
   "execution_count": 24,
   "metadata": {},
   "outputs": [
    {
     "data": {
      "text/plain": [
       "NDB_No                                                       137682123\n",
       "Shrt_Desc            BUTTER,WITH SALTBUTTER,WHIPPED,W/ SALTBUTTER O...\n",
       "Water_(g)                                                       475592\n",
       "Energ_Kcal                                                     1989332\n",
       "Protein_(g)                                                    99703.6\n",
       "Lipid_Tot_(g)                                                  92767.2\n",
       "Ash_(g)                                                        15097.1\n",
       "Carbohydrt_(g)                                                  194503\n",
       "Fiber_TD_(g)                                                   17928.3\n",
       "Sugar_Tot_(g)                                                  59442.7\n",
       "Calcium_(mg)                                                    647824\n",
       "Iron_(mg)                                                      23341.4\n",
       "Magnesium_(mg)                                                  284168\n",
       "Phosphorus_(mg)                                            1.35598e+06\n",
       "Potassium_(mg)                                             2.33751e+06\n",
       "Sodium_(mg)                                                 2.7209e+06\n",
       "Zinc_(mg)                                                      17117.4\n",
       "Copper_(mg)                                                    1476.35\n",
       "Manganese_(mg)                                                 4363.57\n",
       "Selenium_(µg)                                                   110540\n",
       "Vit_C_(mg)                                                     73590.6\n",
       "Thiamin_(mg)                                                   1819.88\n",
       "Riboflavin_(mg)                                                2061.79\n",
       "Niacin_(mg)                                                    29821.4\n",
       "Panto_Acid_mg)                                                 4262.67\n",
       "Vit_B6_(mg)                                                    2298.72\n",
       "Folate_Tot_(µg)                                                 388483\n",
       "Folic_Acid_(µg)                                                 156414\n",
       "Food_Folate_(µg)                                                172433\n",
       "Folate_DFE_(µg)                                                 432769\n",
       "Choline_Tot_ (mg)                                               208128\n",
       "Vit_B12_(µg)                                                   10578.6\n",
       "Vit_A_IU                                                   5.94462e+06\n",
       "Vit_A_RAE                                                       810573\n",
       "Retinol_(µg)                                                    626954\n",
       "Alpha_Carot_(µg)                                                174241\n",
       "Beta_Carot_(µg)                                            1.24556e+06\n",
       "Beta_Crypt_(µg)                                                  58644\n",
       "Lycopene_(µg)                                                   863404\n",
       "Lut+Zea_ (µg)                                              1.06199e+06\n",
       "Vit_E_(mg)                                                     7857.29\n",
       "Vit_D_µg                                                        3202.2\n",
       "Vit_D_IU                                                        128262\n",
       "Vit_K_(µg)                                                     81706.3\n",
       "FA_Sat_(g)                                                     30187.8\n",
       "FA_Mono_(g)                                                    33154.1\n",
       "FA_Poly_(g)                                                    18596.2\n",
       "Cholestrl_(mg)                                                  340339\n",
       "dtype: object"
      ]
     },
     "execution_count": 24,
     "metadata": {},
     "output_type": "execute_result"
    }
   ],
   "source": [
    "makanan.sum()"
   ]
  },
  {
   "cell_type": "code",
   "execution_count": 25,
   "metadata": {},
   "outputs": [
    {
     "data": {
      "text/plain": [
       "NDB_No               15663.495222\n",
       "Water_(g)               54.112218\n",
       "Energ_Kcal             226.317634\n",
       "Protein_(g)             11.342849\n",
       "Lipid_Tot_(g)           10.553725\n",
       "Ash_(g)                  1.783468\n",
       "Carbohydrt_(g)          22.127710\n",
       "Fiber_TD_(g)             2.187445\n",
       "Sugar_Tot_(g)            8.543066\n",
       "Calcium_(mg)            76.738214\n",
       "Iron_(mg)                2.699674\n",
       "Magnesium_(mg)          35.295988\n",
       "Phosphorus_(mg)        165.142126\n",
       "Potassium_(mg)         279.472740\n",
       "Sodium_(mg)            312.495923\n",
       "Zinc_(mg)                2.117438\n",
       "Copper_(mg)              0.195984\n",
       "Manganese_(mg)           0.658156\n",
       "Selenium_(µg)           15.591016\n",
       "Vit_C_(mg)               9.231134\n",
       "Thiamin_(mg)             0.223134\n",
       "Riboflavin_(mg)          0.252237\n",
       "Niacin_(mg)              3.657721\n",
       "Panto_Acid_mg)           0.650989\n",
       "Vit_B6_(mg)              0.291531\n",
       "Folate_Tot_(µg)         51.598220\n",
       "Folic_Acid_(µg)         23.169012\n",
       "Food_Folate_(µg)        24.556109\n",
       "Folate_DFE_(µg)         64.275806\n",
       "Choline_Tot_ (mg)       43.596230\n",
       "Vit_B12_(µg)             1.392472\n",
       "Vit_A_IU               735.810744\n",
       "Vit_A_RAE              111.726120\n",
       "Retinol_(µg)            89.770046\n",
       "Alpha_Carot_(µg)        31.496927\n",
       "Beta_Carot_(µg)        221.314499\n",
       "Beta_Crypt_(µg)         10.623913\n",
       "Lycopene_(µg)          157.039651\n",
       "Lut+Zea_ (µg)          193.970046\n",
       "Vit_E_(mg)               1.331518\n",
       "Vit_D_µg                 0.579269\n",
       "Vit_D_IU                22.990142\n",
       "Vit_K_(µg)              15.631586\n",
       "FA_Sat_(g)               3.576334\n",
       "FA_Mono_(g)              4.081006\n",
       "FA_Poly_(g)              2.288767\n",
       "Cholestrl_(mg)          40.613246\n",
       "dtype: float64"
      ]
     },
     "execution_count": 25,
     "metadata": {},
     "output_type": "execute_result"
    }
   ],
   "source": [
    "makanan.mean()"
   ]
  },
  {
   "cell_type": "code",
   "execution_count": 26,
   "metadata": {
    "scrolled": true
   },
   "outputs": [
    {
     "data": {
      "text/html": [
       "<div>\n",
       "<style>\n",
       "    .dataframe thead tr:only-child th {\n",
       "        text-align: right;\n",
       "    }\n",
       "\n",
       "    .dataframe thead th {\n",
       "        text-align: left;\n",
       "    }\n",
       "\n",
       "    .dataframe tbody tr th {\n",
       "        vertical-align: top;\n",
       "    }\n",
       "</style>\n",
       "<table border=\"1\" class=\"dataframe\">\n",
       "  <thead>\n",
       "    <tr style=\"text-align: right;\">\n",
       "      <th></th>\n",
       "      <th>NDB_No</th>\n",
       "      <th>Water_(g)</th>\n",
       "      <th>Energ_Kcal</th>\n",
       "      <th>Protein_(g)</th>\n",
       "      <th>Lipid_Tot_(g)</th>\n",
       "      <th>Ash_(g)</th>\n",
       "      <th>Carbohydrt_(g)</th>\n",
       "      <th>Fiber_TD_(g)</th>\n",
       "      <th>Sugar_Tot_(g)</th>\n",
       "      <th>Calcium_(mg)</th>\n",
       "      <th>...</th>\n",
       "      <th>Lycopene_(µg)</th>\n",
       "      <th>Lut+Zea_ (µg)</th>\n",
       "      <th>Vit_E_(mg)</th>\n",
       "      <th>Vit_D_µg</th>\n",
       "      <th>Vit_D_IU</th>\n",
       "      <th>Vit_K_(µg)</th>\n",
       "      <th>FA_Sat_(g)</th>\n",
       "      <th>FA_Mono_(g)</th>\n",
       "      <th>FA_Poly_(g)</th>\n",
       "      <th>Cholestrl_(mg)</th>\n",
       "    </tr>\n",
       "  </thead>\n",
       "  <tbody>\n",
       "    <tr>\n",
       "      <th>count</th>\n",
       "      <td>8790.000000</td>\n",
       "      <td>8789.000000</td>\n",
       "      <td>8790.000000</td>\n",
       "      <td>8790.000000</td>\n",
       "      <td>8790.000000</td>\n",
       "      <td>8465.000000</td>\n",
       "      <td>8790.000000</td>\n",
       "      <td>8196.000000</td>\n",
       "      <td>6958.000000</td>\n",
       "      <td>8442.000000</td>\n",
       "      <td>...</td>\n",
       "      <td>5498.000000</td>\n",
       "      <td>5475.000000</td>\n",
       "      <td>5901.000000</td>\n",
       "      <td>5528.000000</td>\n",
       "      <td>5579.000000</td>\n",
       "      <td>5227.000000</td>\n",
       "      <td>8441.000000</td>\n",
       "      <td>8124.000000</td>\n",
       "      <td>8125.000000</td>\n",
       "      <td>8380.000000</td>\n",
       "    </tr>\n",
       "    <tr>\n",
       "      <th>mean</th>\n",
       "      <td>15663.495222</td>\n",
       "      <td>54.112218</td>\n",
       "      <td>226.317634</td>\n",
       "      <td>11.342849</td>\n",
       "      <td>10.553725</td>\n",
       "      <td>1.783468</td>\n",
       "      <td>22.127710</td>\n",
       "      <td>2.187445</td>\n",
       "      <td>8.543066</td>\n",
       "      <td>76.738214</td>\n",
       "      <td>...</td>\n",
       "      <td>157.039651</td>\n",
       "      <td>193.970046</td>\n",
       "      <td>1.331518</td>\n",
       "      <td>0.579269</td>\n",
       "      <td>22.990142</td>\n",
       "      <td>15.631586</td>\n",
       "      <td>3.576334</td>\n",
       "      <td>4.081006</td>\n",
       "      <td>2.288767</td>\n",
       "      <td>40.613246</td>\n",
       "    </tr>\n",
       "    <tr>\n",
       "      <th>std</th>\n",
       "      <td>9251.413586</td>\n",
       "      <td>30.772854</td>\n",
       "      <td>169.877539</td>\n",
       "      <td>10.530474</td>\n",
       "      <td>15.814842</td>\n",
       "      <td>3.004609</td>\n",
       "      <td>27.270822</td>\n",
       "      <td>4.383138</td>\n",
       "      <td>14.923626</td>\n",
       "      <td>203.527453</td>\n",
       "      <td>...</td>\n",
       "      <td>1397.230145</td>\n",
       "      <td>1148.404329</td>\n",
       "      <td>4.640706</td>\n",
       "      <td>3.882702</td>\n",
       "      <td>154.614465</td>\n",
       "      <td>79.949125</td>\n",
       "      <td>6.518840</td>\n",
       "      <td>7.010760</td>\n",
       "      <td>5.215654</td>\n",
       "      <td>119.869371</td>\n",
       "    </tr>\n",
       "    <tr>\n",
       "      <th>min</th>\n",
       "      <td>1001.000000</td>\n",
       "      <td>0.000000</td>\n",
       "      <td>0.000000</td>\n",
       "      <td>0.000000</td>\n",
       "      <td>0.000000</td>\n",
       "      <td>0.000000</td>\n",
       "      <td>0.000000</td>\n",
       "      <td>0.000000</td>\n",
       "      <td>0.000000</td>\n",
       "      <td>0.000000</td>\n",
       "      <td>...</td>\n",
       "      <td>0.000000</td>\n",
       "      <td>0.000000</td>\n",
       "      <td>0.000000</td>\n",
       "      <td>0.000000</td>\n",
       "      <td>0.000000</td>\n",
       "      <td>0.000000</td>\n",
       "      <td>0.000000</td>\n",
       "      <td>0.000000</td>\n",
       "      <td>0.000000</td>\n",
       "      <td>0.000000</td>\n",
       "    </tr>\n",
       "    <tr>\n",
       "      <th>25%</th>\n",
       "      <td>9086.250000</td>\n",
       "      <td>29.700000</td>\n",
       "      <td>91.000000</td>\n",
       "      <td>2.380000</td>\n",
       "      <td>0.950000</td>\n",
       "      <td>0.840000</td>\n",
       "      <td>0.050000</td>\n",
       "      <td>0.000000</td>\n",
       "      <td>0.000000</td>\n",
       "      <td>10.000000</td>\n",
       "      <td>...</td>\n",
       "      <td>0.000000</td>\n",
       "      <td>0.000000</td>\n",
       "      <td>0.120000</td>\n",
       "      <td>0.000000</td>\n",
       "      <td>0.000000</td>\n",
       "      <td>0.200000</td>\n",
       "      <td>0.220000</td>\n",
       "      <td>0.235750</td>\n",
       "      <td>0.220000</td>\n",
       "      <td>0.000000</td>\n",
       "    </tr>\n",
       "    <tr>\n",
       "      <th>50%</th>\n",
       "      <td>14427.500000</td>\n",
       "      <td>63.080000</td>\n",
       "      <td>191.000000</td>\n",
       "      <td>8.000000</td>\n",
       "      <td>5.140000</td>\n",
       "      <td>1.200000</td>\n",
       "      <td>9.340000</td>\n",
       "      <td>0.700000</td>\n",
       "      <td>1.840000</td>\n",
       "      <td>21.000000</td>\n",
       "      <td>...</td>\n",
       "      <td>0.000000</td>\n",
       "      <td>0.000000</td>\n",
       "      <td>0.300000</td>\n",
       "      <td>0.000000</td>\n",
       "      <td>0.000000</td>\n",
       "      <td>1.600000</td>\n",
       "      <td>1.592000</td>\n",
       "      <td>1.938500</td>\n",
       "      <td>0.696000</td>\n",
       "      <td>4.000000</td>\n",
       "    </tr>\n",
       "    <tr>\n",
       "      <th>75%</th>\n",
       "      <td>20142.750000</td>\n",
       "      <td>77.960000</td>\n",
       "      <td>337.000000</td>\n",
       "      <td>19.880000</td>\n",
       "      <td>13.720000</td>\n",
       "      <td>2.090000</td>\n",
       "      <td>34.910000</td>\n",
       "      <td>2.600000</td>\n",
       "      <td>9.287500</td>\n",
       "      <td>69.000000</td>\n",
       "      <td>...</td>\n",
       "      <td>0.000000</td>\n",
       "      <td>30.000000</td>\n",
       "      <td>0.800000</td>\n",
       "      <td>0.200000</td>\n",
       "      <td>6.000000</td>\n",
       "      <td>5.200000</td>\n",
       "      <td>4.345000</td>\n",
       "      <td>5.115000</td>\n",
       "      <td>2.081000</td>\n",
       "      <td>67.000000</td>\n",
       "    </tr>\n",
       "    <tr>\n",
       "      <th>max</th>\n",
       "      <td>93600.000000</td>\n",
       "      <td>100.000000</td>\n",
       "      <td>902.000000</td>\n",
       "      <td>88.320000</td>\n",
       "      <td>100.000000</td>\n",
       "      <td>99.800000</td>\n",
       "      <td>100.000000</td>\n",
       "      <td>79.000000</td>\n",
       "      <td>99.800000</td>\n",
       "      <td>7364.000000</td>\n",
       "      <td>...</td>\n",
       "      <td>46260.000000</td>\n",
       "      <td>19697.000000</td>\n",
       "      <td>149.400000</td>\n",
       "      <td>250.000000</td>\n",
       "      <td>10000.000000</td>\n",
       "      <td>1714.500000</td>\n",
       "      <td>95.600000</td>\n",
       "      <td>83.689000</td>\n",
       "      <td>74.623000</td>\n",
       "      <td>3100.000000</td>\n",
       "    </tr>\n",
       "  </tbody>\n",
       "</table>\n",
       "<p>8 rows × 47 columns</p>\n",
       "</div>"
      ],
      "text/plain": [
       "             NDB_No    Water_(g)   Energ_Kcal  Protein_(g)  Lipid_Tot_(g)  \\\n",
       "count   8790.000000  8789.000000  8790.000000  8790.000000    8790.000000   \n",
       "mean   15663.495222    54.112218   226.317634    11.342849      10.553725   \n",
       "std     9251.413586    30.772854   169.877539    10.530474      15.814842   \n",
       "min     1001.000000     0.000000     0.000000     0.000000       0.000000   \n",
       "25%     9086.250000    29.700000    91.000000     2.380000       0.950000   \n",
       "50%    14427.500000    63.080000   191.000000     8.000000       5.140000   \n",
       "75%    20142.750000    77.960000   337.000000    19.880000      13.720000   \n",
       "max    93600.000000   100.000000   902.000000    88.320000     100.000000   \n",
       "\n",
       "           Ash_(g)  Carbohydrt_(g)  Fiber_TD_(g)  Sugar_Tot_(g)  Calcium_(mg)  \\\n",
       "count  8465.000000     8790.000000   8196.000000    6958.000000   8442.000000   \n",
       "mean      1.783468       22.127710      2.187445       8.543066     76.738214   \n",
       "std       3.004609       27.270822      4.383138      14.923626    203.527453   \n",
       "min       0.000000        0.000000      0.000000       0.000000      0.000000   \n",
       "25%       0.840000        0.050000      0.000000       0.000000     10.000000   \n",
       "50%       1.200000        9.340000      0.700000       1.840000     21.000000   \n",
       "75%       2.090000       34.910000      2.600000       9.287500     69.000000   \n",
       "max      99.800000      100.000000     79.000000      99.800000   7364.000000   \n",
       "\n",
       "            ...        Lycopene_(µg)  Lut+Zea_ (µg)   Vit_E_(mg)     Vit_D_µg  \\\n",
       "count       ...          5498.000000    5475.000000  5901.000000  5528.000000   \n",
       "mean        ...           157.039651     193.970046     1.331518     0.579269   \n",
       "std         ...          1397.230145    1148.404329     4.640706     3.882702   \n",
       "min         ...             0.000000       0.000000     0.000000     0.000000   \n",
       "25%         ...             0.000000       0.000000     0.120000     0.000000   \n",
       "50%         ...             0.000000       0.000000     0.300000     0.000000   \n",
       "75%         ...             0.000000      30.000000     0.800000     0.200000   \n",
       "max         ...         46260.000000   19697.000000   149.400000   250.000000   \n",
       "\n",
       "           Vit_D_IU   Vit_K_(µg)   FA_Sat_(g)  FA_Mono_(g)  FA_Poly_(g)  \\\n",
       "count   5579.000000  5227.000000  8441.000000  8124.000000  8125.000000   \n",
       "mean      22.990142    15.631586     3.576334     4.081006     2.288767   \n",
       "std      154.614465    79.949125     6.518840     7.010760     5.215654   \n",
       "min        0.000000     0.000000     0.000000     0.000000     0.000000   \n",
       "25%        0.000000     0.200000     0.220000     0.235750     0.220000   \n",
       "50%        0.000000     1.600000     1.592000     1.938500     0.696000   \n",
       "75%        6.000000     5.200000     4.345000     5.115000     2.081000   \n",
       "max    10000.000000  1714.500000    95.600000    83.689000    74.623000   \n",
       "\n",
       "       Cholestrl_(mg)  \n",
       "count     8380.000000  \n",
       "mean        40.613246  \n",
       "std        119.869371  \n",
       "min          0.000000  \n",
       "25%          0.000000  \n",
       "50%          4.000000  \n",
       "75%         67.000000  \n",
       "max       3100.000000  \n",
       "\n",
       "[8 rows x 47 columns]"
      ]
     },
     "execution_count": 26,
     "metadata": {},
     "output_type": "execute_result"
    }
   ],
   "source": [
    "makanan.describe()"
   ]
  },
  {
   "cell_type": "markdown",
   "metadata": {},
   "source": [
    "## array"
   ]
  },
  {
   "cell_type": "code",
   "execution_count": 29,
   "metadata": {},
   "outputs": [
    {
     "data": {
      "text/plain": [
       "array([[ 1.49633646, -0.112365  ,  0.15597239, -0.48033173],\n",
       "       [ 1.37431882, -1.65986967,  1.67762143, -0.44083396],\n",
       "       [ 1.15683767, -0.92397829, -0.31505958, -1.24074805],\n",
       "       [ 0.72926752,  1.17813087,  0.71096685, -0.33049278],\n",
       "       [ 1.44548589, -1.22080573,  0.36151063,  0.98025327]])"
      ]
     },
     "execution_count": 29,
     "metadata": {},
     "output_type": "execute_result"
    }
   ],
   "source": [
    "arr = np.random.randn(5, 4)\n",
    "arr"
   ]
  },
  {
   "cell_type": "code",
   "execution_count": 30,
   "metadata": {},
   "outputs": [
    {
     "data": {
      "text/plain": [
       "0.22711084974484508"
      ]
     },
     "execution_count": 30,
     "metadata": {},
     "output_type": "execute_result"
    }
   ],
   "source": [
    "arr.mean()"
   ]
  },
  {
   "cell_type": "code",
   "execution_count": 31,
   "metadata": {},
   "outputs": [
    {
     "data": {
      "text/plain": [
       "4.542216994896902"
      ]
     },
     "execution_count": 31,
     "metadata": {},
     "output_type": "execute_result"
    }
   ],
   "source": [
    "arr.sum()"
   ]
  },
  {
   "cell_type": "code",
   "execution_count": 32,
   "metadata": {},
   "outputs": [
    {
     "data": {
      "text/plain": [
       "array([ 0.26490303,  0.23780915, -0.33073706,  0.57196811,  0.39161102])"
      ]
     },
     "execution_count": 32,
     "metadata": {},
     "output_type": "execute_result"
    }
   ],
   "source": [
    "arr.mean(axis=1)"
   ]
  },
  {
   "cell_type": "code",
   "execution_count": 33,
   "metadata": {},
   "outputs": [
    {
     "data": {
      "text/plain": [
       "array([ 1.05961212,  0.95123661, -1.32294824,  2.28787245,  1.56644406])"
      ]
     },
     "execution_count": 33,
     "metadata": {},
     "output_type": "execute_result"
    }
   ],
   "source": [
    "arr.sum(1)"
   ]
  },
  {
   "cell_type": "code",
   "execution_count": 34,
   "metadata": {},
   "outputs": [
    {
     "data": {
      "text/plain": [
       "array([ 6.20224635, -2.73888782,  2.59101172, -1.51215325])"
      ]
     },
     "execution_count": 34,
     "metadata": {},
     "output_type": "execute_result"
    }
   ],
   "source": [
    "arr.sum(0)"
   ]
  },
  {
   "cell_type": "code",
   "execution_count": 35,
   "metadata": {},
   "outputs": [
    {
     "data": {
      "text/plain": [
       "array([[0, 1, 2],\n",
       "       [3, 4, 5],\n",
       "       [6, 7, 8]])"
      ]
     },
     "execution_count": 35,
     "metadata": {},
     "output_type": "execute_result"
    }
   ],
   "source": [
    "arr2 = np.array([[0, 1, 2], [3, 4, 5], [6, 7, 8]])\n",
    "arr2"
   ]
  },
  {
   "cell_type": "code",
   "execution_count": 36,
   "metadata": {},
   "outputs": [
    {
     "data": {
      "text/plain": [
       "array([[ 0,  1,  2],\n",
       "       [ 3,  5,  7],\n",
       "       [ 9, 12, 15]], dtype=int32)"
      ]
     },
     "execution_count": 36,
     "metadata": {},
     "output_type": "execute_result"
    }
   ],
   "source": [
    "arr2.cumsum(0)"
   ]
  },
  {
   "cell_type": "markdown",
   "metadata": {},
   "source": [
    "# Matplotlib"
   ]
  },
  {
   "cell_type": "code",
   "execution_count": 37,
   "metadata": {
    "collapsed": true
   },
   "outputs": [],
   "source": [
    "import matplotlib.pyplot as plt\n",
    "import numpy as np\n",
    "import seaborn as sns\n",
    "%matplotlib inline\n",
    "\n",
    "x1_values = [2012, 2013, 2014, 2015]\n",
    "y1_values = [4.3, 2.5, 3.5, 4.5]\n",
    "\n",
    "x2_values = [2012, 2013, 2014, 2015]\n",
    "y2_values = [2.4, 4.4, 1.8, 2.8]\n",
    "\n",
    "x3_values = [2012, 2013, 2014, 2015]\n",
    "y3_values = [2, 2, 3, 5]"
   ]
  },
  {
   "cell_type": "markdown",
   "metadata": {},
   "source": [
    "## Line plot"
   ]
  },
  {
   "cell_type": "code",
   "execution_count": 127,
   "metadata": {},
   "outputs": [
    {
     "data": {
      "image/png": "[encoded data removed]",
      "text/plain": [
       "<matplotlib.figure.Figure at 0x1ba659f1c18>"
      ]
     },
     "metadata": {},
     "output_type": "display_data"
    }
   ],
   "source": [
    "plt.figure()\n",
    "plt.plot(x1_values, y1_values, label='Python')\n",
    "plt.plot(x2_values, y2_values, label='JavaScript')\n",
    "plt.plot(x3_values, y3_values, label='R')\n",
    "\n",
    "plt.xlim(2012, 2015)\n",
    "plt.ylim(0, 6)\n",
    "plt.xticks([2012, 2013, 2014, 2015], ['2012', '2013', '2014', '2015'])\n",
    "plt.yticks([1, 2, 3, 4, 5])\n",
    "\n",
    "plt.xlabel('')\n",
    "plt.ylabel('Web Searches')\n",
    "\n",
    "plt.legend(loc='upper center', ncol=3)\n",
    "plt.grid(True)\n",
    "\n",
    "plt.savefig('web-searches.png', dpi=150)"
   ]
  },
  {
   "cell_type": "markdown",
   "metadata": {},
   "source": [
    "## Histogram"
   ]
  },
  {
   "cell_type": "code",
   "execution_count": 40,
   "metadata": {},
   "outputs": [
    {
     "data": {
      "text/plain": [
       "(array([  7.,  22.,  91., 194., 264., 225., 130.,  55.,  10.,   2.]),\n",
       " array([32.51872726, 34.5411637 , 36.56360013, 38.58603657, 40.60847301,\n",
       "        42.63090944, 44.65334588, 46.67578231, 48.69821875, 50.72065518,\n",
       "        52.74309162]),\n",
       " <a list of 10 Patch objects>)"
      ]
     },
     "execution_count": 40,
     "metadata": {},
     "output_type": "execute_result"
    },
    {
     "data": {
      "image/png": "[encoded data removed]",
      "text/plain": [
       "<matplotlib.figure.Figure at 0x1ba6077d860>"
      ]
     },
     "metadata": {},
     "output_type": "display_data"
    }
   ],
   "source": [
    "column_data = np.random.normal(42, 3, 1000)\n",
    "\n",
    "plt.figure()\n",
    "\n",
    "plt.hist(column_data)\n"
   ]
  },
  {
   "cell_type": "code",
   "execution_count": 56,
   "metadata": {},
   "outputs": [
    {
     "data": {
      "text/plain": [
       "(array([2.677e+03, 3.708e+03, 1.815e+03, 3.610e+02, 2.220e+02, 1.000e+00,\n",
       "        0.000e+00, 0.000e+00, 2.000e+00, 4.000e+00]),\n",
       " array([ 1001. , 10260.9, 19520.8, 28780.7, 38040.6, 47300.5, 56560.4,\n",
       "        65820.3, 75080.2, 84340.1, 93600. ]),\n",
       " <a list of 10 Patch objects>)"
      ]
     },
     "execution_count": 56,
     "metadata": {},
     "output_type": "execute_result"
    },
    {
     "data": {
      "image/png": "[encoded data removed]",
      "text/plain": [
       "<matplotlib.figure.Figure at 0x1ba65622470>"
      ]
     },
     "metadata": {},
     "output_type": "display_data"
    }
   ],
   "source": [
    "plt.hist(kolom_nbd)"
   ]
  },
  {
   "cell_type": "code",
   "execution_count": 41,
   "metadata": {},
   "outputs": [
    {
     "data": {
      "text/plain": [
       "<matplotlib.axes._subplots.AxesSubplot at 0x1ba63ec8630>"
      ]
     },
     "execution_count": 41,
     "metadata": {},
     "output_type": "execute_result"
    },
    {
     "data": {
      "image/png": "[encoded data removed]",
      "text/plain": [
       "<matplotlib.figure.Figure at 0x1ba6076c710>"
      ]
     },
     "metadata": {},
     "output_type": "display_data"
    }
   ],
   "source": [
    "sns.distplot(column_data)"
   ]
  },
  {
   "cell_type": "code",
   "execution_count": 57,
   "metadata": {},
   "outputs": [
    {
     "data": {
      "text/plain": [
       "<matplotlib.axes._subplots.AxesSubplot at 0x1ba656590f0>"
      ]
     },
     "execution_count": 57,
     "metadata": {},
     "output_type": "execute_result"
    },
    {
     "data": {
      "image/png": "[encoded data removed]",
      "text/plain": [
       "<matplotlib.figure.Figure at 0x1ba656d2eb8>"
      ]
     },
     "metadata": {},
     "output_type": "display_data"
    }
   ],
   "source": [
    "sns.distplot(kolom_nbd)"
   ]
  },
  {
   "cell_type": "markdown",
   "metadata": {},
   "source": [
    "## Boxplot"
   ]
  },
  {
   "cell_type": "code",
   "execution_count": 43,
   "metadata": {},
   "outputs": [
    {
     "data": {
      "text/plain": [
       "{'boxes': [<matplotlib.lines.Line2D at 0x1ba6508f7f0>,\n",
       "  <matplotlib.lines.Line2D at 0x1ba650a7940>],\n",
       " 'caps': [<matplotlib.lines.Line2D at 0x1ba65096e48>,\n",
       "  <matplotlib.lines.Line2D at 0x1ba6509f6d8>,\n",
       "  <matplotlib.lines.Line2D at 0x1ba650b9978>,\n",
       "  <matplotlib.lines.Line2D at 0x1ba650b9b70>],\n",
       " 'fliers': [<matplotlib.lines.Line2D at 0x1ba650a77b8>,\n",
       "  <matplotlib.lines.Line2D at 0x1ba650c1c50>],\n",
       " 'means': [],\n",
       " 'medians': [<matplotlib.lines.Line2D at 0x1ba6509f8d0>,\n",
       "  <matplotlib.lines.Line2D at 0x1ba650c1400>],\n",
       " 'whiskers': [<matplotlib.lines.Line2D at 0x1ba6508ff60>,\n",
       "  <matplotlib.lines.Line2D at 0x1ba650965f8>,\n",
       "  <matplotlib.lines.Line2D at 0x1ba650b1898>,\n",
       "  <matplotlib.lines.Line2D at 0x1ba650b1a90>]}"
      ]
     },
     "execution_count": 43,
     "metadata": {},
     "output_type": "execute_result"
    },
    {
     "data": {
      "image/png": "[encoded data removed]",
      "text/plain": [
       "<matplotlib.figure.Figure at 0x1ba63fb4198>"
      ]
     },
     "metadata": {},
     "output_type": "display_data"
    }
   ],
   "source": [
    "two_columns_data = [np.random.normal(57, 3, 1000),\n",
    "                    np.random.normal(42, 7, 1000)]\n",
    "\n",
    "plt.boxplot(two_columns_data)"
   ]
  },
  {
   "cell_type": "code",
   "execution_count": 58,
   "metadata": {},
   "outputs": [
    {
     "data": {
      "text/plain": [
       "{'boxes': [<matplotlib.lines.Line2D at 0x1ba658e3ba8>],\n",
       " 'caps': [<matplotlib.lines.Line2D at 0x1ba658ecdd8>,\n",
       "  <matplotlib.lines.Line2D at 0x1ba658f5cc0>],\n",
       " 'fliers': [<matplotlib.lines.Line2D at 0x1ba658fdda0>],\n",
       " 'means': [],\n",
       " 'medians': [<matplotlib.lines.Line2D at 0x1ba658f5eb8>],\n",
       " 'whiskers': [<matplotlib.lines.Line2D at 0x1ba658e3da0>,\n",
       "  <matplotlib.lines.Line2D at 0x1ba658ecbe0>]}"
      ]
     },
     "execution_count": 58,
     "metadata": {},
     "output_type": "execute_result"
    },
    {
     "data": {
      "image/png": "[encoded data removed]",
      "text/plain": [
       "<matplotlib.figure.Figure at 0x1ba65852668>"
      ]
     },
     "metadata": {},
     "output_type": "display_data"
    }
   ],
   "source": [
    "plt.boxplot(kolom_nbd)"
   ]
  },
  {
   "cell_type": "code",
   "execution_count": 44,
   "metadata": {},
   "outputs": [
    {
     "data": {
      "text/plain": [
       "<matplotlib.axes._subplots.AxesSubplot at 0x1ba650d94a8>"
      ]
     },
     "execution_count": 44,
     "metadata": {},
     "output_type": "execute_result"
    },
    {
     "data": {
      "image/png": "[encoded data removed]",
      "text/plain": [
       "<matplotlib.figure.Figure at 0x1ba63fd6080>"
      ]
     },
     "metadata": {},
     "output_type": "display_data"
    }
   ],
   "source": [
    "sns.boxplot(data=two_columns_data)"
   ]
  },
  {
   "cell_type": "code",
   "execution_count": 59,
   "metadata": {},
   "outputs": [
    {
     "data": {
      "text/plain": [
       "<matplotlib.axes._subplots.AxesSubplot at 0x1ba658a3da0>"
      ]
     },
     "execution_count": 59,
     "metadata": {},
     "output_type": "execute_result"
    },
    {
     "data": {
      "image/png": "[encoded data removed]",
      "text/plain": [
       "<matplotlib.figure.Figure at 0x1ba6591d7b8>"
      ]
     },
     "metadata": {},
     "output_type": "display_data"
    }
   ],
   "source": [
    "sns.boxplot(kolom_nbd)"
   ]
  },
  {
   "cell_type": "markdown",
   "metadata": {},
   "source": [
    "# Vertical Bar Chart"
   ]
  },
  {
   "cell_type": "code",
   "execution_count": 45,
   "metadata": {},
   "outputs": [
    {
     "data": {
      "text/plain": [
       "<Container object of 3 artists>"
      ]
     },
     "execution_count": 45,
     "metadata": {},
     "output_type": "execute_result"
    },
    {
     "data": {
      "image/png": "[encoded data removed]",
      "text/plain": [
       "<matplotlib.figure.Figure at 0x1ba6512aac8>"
      ]
     },
     "metadata": {},
     "output_type": "display_data"
    }
   ],
   "source": [
    "years = np.arange(2012, 2015)\n",
    "values = [2, 5, 9]\n",
    "\n",
    "plt.figure()\n",
    "\n",
    "plt.bar(years, values)"
   ]
  },
  {
   "cell_type": "code",
   "execution_count": 46,
   "metadata": {},
   "outputs": [
    {
     "data": {
      "text/plain": [
       "<matplotlib.axes._subplots.AxesSubplot at 0x1ba63d86d68>"
      ]
     },
     "execution_count": 46,
     "metadata": {},
     "output_type": "execute_result"
    },
    {
     "data": {
      "image/png": "[encoded data removed]",
      "text/plain": [
       "<matplotlib.figure.Figure at 0x1ba63eb9cf8>"
      ]
     },
     "metadata": {},
     "output_type": "display_data"
    }
   ],
   "source": [
    "sns.barplot(years, values)"
   ]
  },
  {
   "cell_type": "markdown",
   "metadata": {},
   "source": [
    "## Pie chart"
   ]
  },
  {
   "cell_type": "code",
   "execution_count": 47,
   "metadata": {},
   "outputs": [
    {
     "data": {
      "text/plain": [
       "([<matplotlib.patches.Wedge at 0x1ba652a5eb8>,\n",
       "  <matplotlib.patches.Wedge at 0x1ba652aeb38>],\n",
       " [<matplotlib.text.Text at 0x1ba652ae668>,\n",
       "  <matplotlib.text.Text at 0x1ba652b42e8>])"
      ]
     },
     "execution_count": 47,
     "metadata": {},
     "output_type": "execute_result"
    },
    {
     "data": {
      "image/png": "[encoded data removed]",
      "text/plain": [
       "<matplotlib.figure.Figure at 0x1ba651bd1d0>"
      ]
     },
     "metadata": {},
     "output_type": "display_data"
    }
   ],
   "source": [
    "counts = [17, 14]\n",
    "\n",
    "plt.figure()\n",
    "\n",
    "plt.pie(counts)"
   ]
  },
  {
   "cell_type": "code",
   "execution_count": 48,
   "metadata": {},
   "outputs": [
    {
     "data": {
      "text/plain": [
       "([<matplotlib.patches.Wedge at 0x1ba65328518>,\n",
       "  <matplotlib.patches.Wedge at 0x1ba65330710>],\n",
       " [<matplotlib.text.Text at 0x1ba65328cc0>,\n",
       "  <matplotlib.text.Text at 0x1ba65330e80>],\n",
       " [<matplotlib.text.Text at 0x1ba653301d0>,\n",
       "  <matplotlib.text.Text at 0x1ba65338278>])"
      ]
     },
     "execution_count": 48,
     "metadata": {},
     "output_type": "execute_result"
    },
    {
     "data": {
      "image/png": "[encoded data removed]",
      "text/plain": [
       "<matplotlib.figure.Figure at 0x1ba65266b38>"
      ]
     },
     "metadata": {},
     "output_type": "display_data"
    }
   ],
   "source": [
    "counts = [17, 14]\n",
    "\n",
    "plt.figure(figsize=(4, 4))\n",
    "\n",
    "plt.pie(counts,\n",
    "        colors=['blue', 'orange'],\n",
    "        labels=['Category A', 'Other categories'],\n",
    "        startangle=90,\n",
    "        autopct='%1.1f%%')"
   ]
  },
  {
   "cell_type": "markdown",
   "metadata": {},
   "source": [
    "## Scatter plot"
   ]
  },
  {
   "cell_type": "code",
   "execution_count": 49,
   "metadata": {},
   "outputs": [
    {
     "data": {
      "text/plain": [
       "<matplotlib.collections.PathCollection at 0x1ba6539f7f0>"
      ]
     },
     "execution_count": 49,
     "metadata": {},
     "output_type": "execute_result"
    },
    {
     "data": {
      "image/png": "[encoded data removed]",
      "text/plain": [
       "<matplotlib.figure.Figure at 0x1ba652ec278>"
      ]
     },
     "metadata": {},
     "output_type": "display_data"
    }
   ],
   "source": [
    "x = range(20)\n",
    "y = np.arange(50, 70) + (np.random.random(20) * 10.)\n",
    "\n",
    "plt.figure()\n",
    "\n",
    "plt.scatter(x, y)"
   ]
  },
  {
   "cell_type": "code",
   "execution_count": 50,
   "metadata": {},
   "outputs": [
    {
     "data": {
      "text/plain": [
       "<matplotlib.collections.PathCollection at 0x1ba65450470>"
      ]
     },
     "execution_count": 50,
     "metadata": {},
     "output_type": "execute_result"
    },
    {
     "data": {
      "image/png": "[encoded data removed]",
      "text/plain": [
       "<matplotlib.figure.Figure at 0x1ba653c2320>"
      ]
     },
     "metadata": {},
     "output_type": "display_data"
    }
   ],
   "source": [
    "x = np.arange(20)\n",
    "y = np.arange(50, 70) + (np.random.random(20) * 10.)\n",
    "\n",
    "plt.figure()\n",
    "\n",
    "plt.scatter(x,\n",
    "            y,\n",
    "            c='red',\n",
    "            s=40,\n",
    "            marker='s',\n",
    "            edgecolor='none')"
   ]
  },
  {
   "cell_type": "code",
   "execution_count": null,
   "metadata": {
    "collapsed": true
   },
   "outputs": [],
   "source": []
  }
 ],
 "metadata": {
  "kernelspec": {
   "display_name": "Python 3",
   "language": "python",
   "name": "python3"
  },
  "language_info": {
   "codemirror_mode": {
    "name": "ipython",
    "version": 3
   },
   "file_extension": ".py",
   "mimetype": "text/x-python",
   "name": "python",
   "nbconvert_exporter": "python",
   "pygments_lexer": "ipython3",
   "version": "3.7.6"
  }
 },
 "nbformat": 4,
 "nbformat_minor": 2
}
